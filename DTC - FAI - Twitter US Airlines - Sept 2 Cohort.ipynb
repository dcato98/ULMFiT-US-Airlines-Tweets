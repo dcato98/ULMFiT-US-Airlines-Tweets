{
 "cells": [
  {
   "cell_type": "markdown",
   "metadata": {},
   "source": [
    "# Sentiment Classification of US Airline Tweets <a name=\"top\"></a>\n",
    "\n",
    "The goal of this notebook is to apply a supervised/semi-supervised [ULMFiT](https://arxiv.org/abs/1801.06146) model to Twitter US Airlines Sentiment data.\n",
    "\n",
    "In particular, I have chosen to focus on the sentiment classification task. We could instead investigate other subjects, such as classifying the negative reason or predicting whether a tweet will be retweeted, however many of these analyses take a similar form so I will limit my discussion of other models to the data exploration section.\n",
    "\n",
    "At a high level, after preparing the notebook and exploring the data, we fine-tune [fastai](https://www.fast.ai/about/)'s general [WikiText-103 language model](http://files.fast.ai/models/wt103/) on the tweet data. Then we transfer the fine-tuned word embedding layer (i.e. encoder) to a new language classification model which we train to predict whether the tweet expresses a *negative*, *neutral*, or *positive* sentiment. Finally, we check our work, investigate sources of error, and propose potential next steps to take for improving the model further.\n",
    "\n",
    "A baseline model for this task, which always predicts *negative* (the most common class), has an accuracy of 62.69%. The best two results I found in an online search for public sentiment classification models on this dataset are:\n",
    "* [jiashenliu 2017](https://www.kaggle.com/jiashenliu/how-can-we-predict-the-sentiment-by-tweets) - a random forest with 81.3% accuracy\n",
    "* [Stanford 2016](http://cs229.stanford.edu/proj2016spr/report/042.pdf) - an SVM (linear kernel) with 80% accuracy\n",
    "\n",
    "After training, our best model has a final test accuracy of **82.5%. **TODO: comment further** .\n",
    "\n",
    "To streamline this notebook, I've commented out some sections which list many lines of output. Wherever this is done, I've written about my observations immediately below."
   ]
  },
  {
   "cell_type": "markdown",
   "metadata": {},
   "source": [
    "## Notebook Contents:\n",
    "0. [Notebook Setup](#0)\n",
    "0. [Load, Analyze, and Prepare the Data](#1)\n",
    "   1. sentiment label exploration: [airline_sentiment](#airline_sentiment)\n",
    "   1. negative reason labels exploration: [negativereason](#negativereason)\n",
    "   1. language data exploration: [text](#text)\n",
    "   1. location data exploration: [tweet_coord, tweet_location, user_timezone](#tweet_coord)\n",
    "   1. time data exploration: [tweet_created, user_timezone](#tweet_created)\n",
    "   1. other data exploration: [retweet_count](#retweet_count)\n",
    "   1. prepare the [training, validation, and test sets](#prepare-datasets)\n",
    "0. [Language Model Fine-Tuning](#2)\n",
    "0. [Classification Model Training](#3)\n",
    "0. [Analysis and Discussion](#4)"
   ]
  },
  {
   "cell_type": "markdown",
   "metadata": {},
   "source": [
    "## 0. Notebook Setup \n",
    "<a name=\"0\">[(... back to the top)](#top)</a> "
   ]
  },
  {
   "cell_type": "markdown",
   "metadata": {},
   "source": [
    "Prepare the the notebook to be restarted from any major section (1, 2, 3, or 4). **Always run this cell:**"
   ]
  },
  {
   "cell_type": "code",
   "execution_count": 1,
   "metadata": {},
   "outputs": [],
   "source": [
    "# reloads modules without having to restart the kernel\n",
    "%reload_ext autoreload\n",
    "%autoreload 2\n",
    "\n",
    "# automatically displays plots\n",
    "%matplotlib inline\n",
    "\n",
    "from fastai.text import *     # implementation of ULMFiT in PyTorch + other NLP tools\n",
    "import pytz                   # handle timezones\n",
    "from datetime import datetime # handle dates\n",
    "from pprint import pprint     # nicely formatted printing\n",
    "\n",
    "# prefix given to filenames for keeping track of various trials\n",
    "trial_name = ''\n",
    "\n",
    "# project path\n",
    "path = Path('data/twitter-us-airline-sentiment/')\n",
    "path.mkdir(exist_ok=True)\n",
    "\n",
    "# columns used in classification tasks (the first column must be the label)\n",
    "model_input_cols = ['text_len', 'retweet_count', 'tweet_createdLocalHour', 'text']\n",
    "cols = ['airline_sentiment'] + model_input_cols"
   ]
  },
  {
   "cell_type": "markdown",
   "metadata": {},
   "source": [
    "## 1. Load, Analyze, and Prepare the Data <a name=\"1\"></a>\n",
    "<a name=\"0\">[(... back to the top)](#top)</a> "
   ]
  },
  {
   "cell_type": "markdown",
   "metadata": {},
   "source": [
    "First, a bit of context. This data was compiled during one week in February 2015 from public tweets that mention any of the following 6 US airlines: American, Delta, Southwest, United, US Airways, and Virgin America.\n",
    "\n",
    "To get started, download the Twitter US Airline Sentiment data `Tweets.csv` from [Kaggle](https://www.kaggle.com/crowdflower/twitter-airline-sentiment) and put it in your `path` directory.\n",
    "\n",
    "Load it into pandas to start exploring:"
   ]
  },
  {
   "cell_type": "code",
   "execution_count": 2,
   "metadata": {},
   "outputs": [
    {
     "name": "stdout",
     "output_type": "stream",
     "text": [
      "N Rows: 14640\n"
     ]
    }
   ],
   "source": [
    "df_raw = pd.read_csv(path / 'Tweets.csv')\n",
    "print('N Rows:', len(df_raw))"
   ]
  },
  {
   "cell_type": "markdown",
   "metadata": {},
   "source": [
    "Let's look at a few rows of data to learn what information this dataset contains."
   ]
  },
  {
   "cell_type": "code",
   "execution_count": 3,
   "metadata": {},
   "outputs": [
    {
     "data": {
      "text/html": [
       "<div>\n",
       "<style scoped>\n",
       "    .dataframe tbody tr th:only-of-type {\n",
       "        vertical-align: middle;\n",
       "    }\n",
       "\n",
       "    .dataframe tbody tr th {\n",
       "        vertical-align: top;\n",
       "    }\n",
       "\n",
       "    .dataframe thead th {\n",
       "        text-align: right;\n",
       "    }\n",
       "</style>\n",
       "<table border=\"1\" class=\"dataframe\">\n",
       "  <thead>\n",
       "    <tr style=\"text-align: right;\">\n",
       "      <th></th>\n",
       "      <th>tweet_id</th>\n",
       "      <th>airline_sentiment</th>\n",
       "      <th>airline_sentiment_confidence</th>\n",
       "      <th>negativereason</th>\n",
       "      <th>negativereason_confidence</th>\n",
       "      <th>airline</th>\n",
       "      <th>airline_sentiment_gold</th>\n",
       "      <th>name</th>\n",
       "      <th>negativereason_gold</th>\n",
       "      <th>retweet_count</th>\n",
       "      <th>text</th>\n",
       "      <th>tweet_coord</th>\n",
       "      <th>tweet_created</th>\n",
       "      <th>tweet_location</th>\n",
       "      <th>user_timezone</th>\n",
       "    </tr>\n",
       "  </thead>\n",
       "  <tbody>\n",
       "    <tr>\n",
       "      <th>0</th>\n",
       "      <td>570306133677760513</td>\n",
       "      <td>neutral</td>\n",
       "      <td>1.0000</td>\n",
       "      <td>NaN</td>\n",
       "      <td>NaN</td>\n",
       "      <td>Virgin America</td>\n",
       "      <td>NaN</td>\n",
       "      <td>cairdin</td>\n",
       "      <td>NaN</td>\n",
       "      <td>0</td>\n",
       "      <td>@VirginAmerica What @dhepburn said.</td>\n",
       "      <td>NaN</td>\n",
       "      <td>2015-02-24 11:35:52 -0800</td>\n",
       "      <td>NaN</td>\n",
       "      <td>Eastern Time (US &amp; Canada)</td>\n",
       "    </tr>\n",
       "    <tr>\n",
       "      <th>1</th>\n",
       "      <td>570301130888122368</td>\n",
       "      <td>positive</td>\n",
       "      <td>0.3486</td>\n",
       "      <td>NaN</td>\n",
       "      <td>0.0000</td>\n",
       "      <td>Virgin America</td>\n",
       "      <td>NaN</td>\n",
       "      <td>jnardino</td>\n",
       "      <td>NaN</td>\n",
       "      <td>0</td>\n",
       "      <td>@VirginAmerica plus you've added commercials t...</td>\n",
       "      <td>NaN</td>\n",
       "      <td>2015-02-24 11:15:59 -0800</td>\n",
       "      <td>NaN</td>\n",
       "      <td>Pacific Time (US &amp; Canada)</td>\n",
       "    </tr>\n",
       "    <tr>\n",
       "      <th>2</th>\n",
       "      <td>570301083672813571</td>\n",
       "      <td>neutral</td>\n",
       "      <td>0.6837</td>\n",
       "      <td>NaN</td>\n",
       "      <td>NaN</td>\n",
       "      <td>Virgin America</td>\n",
       "      <td>NaN</td>\n",
       "      <td>yvonnalynn</td>\n",
       "      <td>NaN</td>\n",
       "      <td>0</td>\n",
       "      <td>@VirginAmerica I didn't today... Must mean I n...</td>\n",
       "      <td>NaN</td>\n",
       "      <td>2015-02-24 11:15:48 -0800</td>\n",
       "      <td>Lets Play</td>\n",
       "      <td>Central Time (US &amp; Canada)</td>\n",
       "    </tr>\n",
       "    <tr>\n",
       "      <th>3</th>\n",
       "      <td>570301031407624196</td>\n",
       "      <td>negative</td>\n",
       "      <td>1.0000</td>\n",
       "      <td>Bad Flight</td>\n",
       "      <td>0.7033</td>\n",
       "      <td>Virgin America</td>\n",
       "      <td>NaN</td>\n",
       "      <td>jnardino</td>\n",
       "      <td>NaN</td>\n",
       "      <td>0</td>\n",
       "      <td>@VirginAmerica it's really aggressive to blast...</td>\n",
       "      <td>NaN</td>\n",
       "      <td>2015-02-24 11:15:36 -0800</td>\n",
       "      <td>NaN</td>\n",
       "      <td>Pacific Time (US &amp; Canada)</td>\n",
       "    </tr>\n",
       "  </tbody>\n",
       "</table>\n",
       "</div>"
      ],
      "text/plain": [
       "             tweet_id airline_sentiment  airline_sentiment_confidence  \\\n",
       "0  570306133677760513           neutral                        1.0000   \n",
       "1  570301130888122368          positive                        0.3486   \n",
       "2  570301083672813571           neutral                        0.6837   \n",
       "3  570301031407624196          negative                        1.0000   \n",
       "\n",
       "  negativereason  negativereason_confidence         airline  \\\n",
       "0            NaN                        NaN  Virgin America   \n",
       "1            NaN                     0.0000  Virgin America   \n",
       "2            NaN                        NaN  Virgin America   \n",
       "3     Bad Flight                     0.7033  Virgin America   \n",
       "\n",
       "  airline_sentiment_gold        name negativereason_gold  retweet_count  \\\n",
       "0                    NaN     cairdin                 NaN              0   \n",
       "1                    NaN    jnardino                 NaN              0   \n",
       "2                    NaN  yvonnalynn                 NaN              0   \n",
       "3                    NaN    jnardino                 NaN              0   \n",
       "\n",
       "                                                text tweet_coord  \\\n",
       "0                @VirginAmerica What @dhepburn said.         NaN   \n",
       "1  @VirginAmerica plus you've added commercials t...         NaN   \n",
       "2  @VirginAmerica I didn't today... Must mean I n...         NaN   \n",
       "3  @VirginAmerica it's really aggressive to blast...         NaN   \n",
       "\n",
       "               tweet_created tweet_location               user_timezone  \n",
       "0  2015-02-24 11:35:52 -0800            NaN  Eastern Time (US & Canada)  \n",
       "1  2015-02-24 11:15:59 -0800            NaN  Pacific Time (US & Canada)  \n",
       "2  2015-02-24 11:15:48 -0800      Lets Play  Central Time (US & Canada)  \n",
       "3  2015-02-24 11:15:36 -0800            NaN  Pacific Time (US & Canada)  "
      ]
     },
     "execution_count": 3,
     "metadata": {},
     "output_type": "execute_result"
    }
   ],
   "source": [
    "df_raw.iloc[:4]"
   ]
  },
  {
   "cell_type": "markdown",
   "metadata": {},
   "source": [
    "We can now begin classifying our columns:\n",
    "* natural language: \n",
    "  * 'text'\n",
    "* prediction targets: \n",
    "  * 'airline_sentiment', 'negativereason'\n",
    "* loss importance / confidence in the labels:\n",
    "  * 'airline_sentiment_confidence', 'negativereason_confidence'\n",
    "* user location: \n",
    "  * 'tweet_coord', 'tweet_location', 'user_timezone'\n",
    "* time:\n",
    "  * 'tweet_created'\n",
    "* numeric data: \n",
    "  * 'retweet_count'\n",
    "* unclear: \n",
    "  * 'airline_sentiment_gold', 'negativereason_gold'\n",
    "* irrelevant to future predictions:\n",
    "  * 'tweet_id', 'name', 'airline'\n",
    "  \n",
    "Most importantly, we need to make sure our language data and prediction targets are clean. The location and additional data columns warrant further investigation as they may be able to add additional predictive power to a model. The 'airline' column is listed as irrelevant because the tweets mention the airlines directly in the text.\n",
    "\n",
    "Let's start by looking at our labels."
   ]
  },
  {
   "cell_type": "code",
   "execution_count": 4,
   "metadata": {},
   "outputs": [
    {
     "data": {
      "text/html": [
       "<div>\n",
       "<style scoped>\n",
       "    .dataframe tbody tr th:only-of-type {\n",
       "        vertical-align: middle;\n",
       "    }\n",
       "\n",
       "    .dataframe tbody tr th {\n",
       "        vertical-align: top;\n",
       "    }\n",
       "\n",
       "    .dataframe thead th {\n",
       "        text-align: right;\n",
       "    }\n",
       "</style>\n",
       "<table border=\"1\" class=\"dataframe\">\n",
       "  <thead>\n",
       "    <tr style=\"text-align: right;\">\n",
       "      <th></th>\n",
       "      <th>airline_sentiment</th>\n",
       "      <th>negativereason</th>\n",
       "    </tr>\n",
       "  </thead>\n",
       "  <tbody>\n",
       "    <tr>\n",
       "      <th>count</th>\n",
       "      <td>14640</td>\n",
       "      <td>9178</td>\n",
       "    </tr>\n",
       "    <tr>\n",
       "      <th>unique</th>\n",
       "      <td>3</td>\n",
       "      <td>10</td>\n",
       "    </tr>\n",
       "    <tr>\n",
       "      <th>top</th>\n",
       "      <td>negative</td>\n",
       "      <td>Customer Service Issue</td>\n",
       "    </tr>\n",
       "    <tr>\n",
       "      <th>freq</th>\n",
       "      <td>9178</td>\n",
       "      <td>2910</td>\n",
       "    </tr>\n",
       "  </tbody>\n",
       "</table>\n",
       "</div>"
      ],
      "text/plain": [
       "       airline_sentiment          negativereason\n",
       "count              14640                    9178\n",
       "unique                 3                      10\n",
       "top             negative  Customer Service Issue\n",
       "freq                9178                    2910"
      ]
     },
     "execution_count": 4,
     "metadata": {},
     "output_type": "execute_result"
    }
   ],
   "source": [
    "df_raw[['airline_sentiment', 'negativereason']].describe()"
   ]
  },
  {
   "cell_type": "code",
   "execution_count": 5,
   "metadata": {},
   "outputs": [
    {
     "data": {
      "text/plain": [
       "9178"
      ]
     },
     "execution_count": 5,
     "metadata": {},
     "output_type": "execute_result"
    }
   ],
   "source": [
    "len(df_raw[(df_raw.airline_sentiment == 'negative') & (df_raw.negativereason.notnull())])"
   ]
  },
  {
   "cell_type": "markdown",
   "metadata": {},
   "source": [
    "Here we see that all rows have sentiment and negative reasons only apply to negative sentiment labels.\n",
    "\n",
    "Let's take a closer look at our sentiment classification labels. <a name=\"airline_sentiment\" />"
   ]
  },
  {
   "cell_type": "code",
   "execution_count": 6,
   "metadata": {},
   "outputs": [],
   "source": [
    "def unique_cat_stats(df, colname):\n",
    "    \"\"\"For a categorical column, return the unique values as counts and as a percent of total rows.\"\"\"\n",
    "    series = df.groupby(colname).count().text\n",
    "    res = pd.concat([series, series / len(df) * 100], axis=1)\n",
    "    res.columns = ['raw counts', '% of rows']\n",
    "    return res"
   ]
  },
  {
   "cell_type": "code",
   "execution_count": 7,
   "metadata": {},
   "outputs": [
    {
     "data": {
      "text/html": [
       "<div>\n",
       "<style scoped>\n",
       "    .dataframe tbody tr th:only-of-type {\n",
       "        vertical-align: middle;\n",
       "    }\n",
       "\n",
       "    .dataframe tbody tr th {\n",
       "        vertical-align: top;\n",
       "    }\n",
       "\n",
       "    .dataframe thead th {\n",
       "        text-align: right;\n",
       "    }\n",
       "</style>\n",
       "<table border=\"1\" class=\"dataframe\">\n",
       "  <thead>\n",
       "    <tr style=\"text-align: right;\">\n",
       "      <th></th>\n",
       "      <th>raw counts</th>\n",
       "      <th>% of rows</th>\n",
       "    </tr>\n",
       "    <tr>\n",
       "      <th>airline_sentiment</th>\n",
       "      <th></th>\n",
       "      <th></th>\n",
       "    </tr>\n",
       "  </thead>\n",
       "  <tbody>\n",
       "    <tr>\n",
       "      <th>negative</th>\n",
       "      <td>9178</td>\n",
       "      <td>62.691257</td>\n",
       "    </tr>\n",
       "    <tr>\n",
       "      <th>neutral</th>\n",
       "      <td>3099</td>\n",
       "      <td>21.168033</td>\n",
       "    </tr>\n",
       "    <tr>\n",
       "      <th>positive</th>\n",
       "      <td>2363</td>\n",
       "      <td>16.140710</td>\n",
       "    </tr>\n",
       "  </tbody>\n",
       "</table>\n",
       "</div>"
      ],
      "text/plain": [
       "                   raw counts  % of rows\n",
       "airline_sentiment                       \n",
       "negative                 9178  62.691257\n",
       "neutral                  3099  21.168033\n",
       "positive                 2363  16.140710"
      ]
     },
     "execution_count": 7,
     "metadata": {},
     "output_type": "execute_result"
    }
   ],
   "source": [
    "unique_cat_stats(df_raw, 'airline_sentiment')"
   ]
  },
  {
   "cell_type": "markdown",
   "metadata": {},
   "source": [
    "We see here that there are 3 classes of airline sentiment, cleanly labeled. Now let's take a look at the 'airline_sentiment_confidence'. <a name=\"airline_sentiment_confidence\" />"
   ]
  },
  {
   "cell_type": "code",
   "execution_count": 8,
   "metadata": {},
   "outputs": [
    {
     "name": "stdout",
     "output_type": "stream",
     "text": [
      "min: 0.335 max: 1.0\n"
     ]
    },
    {
     "data": {
      "image/png": "[encoded data removed]",
      "text/plain": [
       "<Figure size 432x288 with 1 Axes>"
      ]
     },
     "metadata": {
      "needs_background": "light"
     },
     "output_type": "display_data"
    }
   ],
   "source": [
    "print('min:', df_raw.airline_sentiment_confidence.min(), 'max:', df_raw.airline_sentiment_confidence.max())\n",
    "plt.hist(df_raw.airline_sentiment_confidence, bins=np.linspace(0,1,101));"
   ]
  },
  {
   "cell_type": "code",
   "execution_count": 9,
   "metadata": {},
   "outputs": [
    {
     "name": "stdout",
     "output_type": "stream",
     "text": [
      "n_low_confidence:    236 \n",
      "n_med_confidence:   3945 \n",
      "n_high_confidence: 10459\n"
     ]
    }
   ],
   "source": [
    "low_confidence  = df_raw[df_raw.airline_sentiment_confidence < 0.5]\n",
    "med_confidence  = df_raw[(0.5 < df_raw.airline_sentiment_confidence) & (df_raw.airline_sentiment_confidence < 0.8)]\n",
    "high_confidence = df_raw[0.8 < df_raw.airline_sentiment_confidence]\n",
    "print('n_low_confidence:   ', len(low_confidence), '\\nn_med_confidence:  ', len(med_confidence),\n",
    "      '\\nn_high_confidence:', len(high_confidence))\n",
    "#for r in low_confidence.sample(n=20, random_state=42).iterrows(): print(r[1].airline_sentiment, r[1].text)\n",
    "#for r in med_confidence.sample(n=20, random_state=42).iterrows(): print(r[1].airline_sentiment, r[1].text)\n",
    "#for r in high_confidence.sample(n=20, random_state=42).iterrows(): print(r[1].airline_sentiment, r[1].text)"
   ]
  },
  {
   "cell_type": "markdown",
   "metadata": {},
   "source": [
    "Three label confidences groups clearly stand out. less than 2% of the labels have a confidence of ~33% and I disagree with the sentiment label on 12 out of 20 randomly selected low confidence labels. With such poor confidence, our predictions would likely be improved by removing these rows from our classification training set. As for the medium confidence labels, which make up about 1/3 of the data, I disagree with 4 out of 20 random labels. It might be helpful to reduce importance of these rows to the training loss. I disagree with 1 out of 20 random high confidence labels."
   ]
  },
  {
   "cell_type": "code",
   "execution_count": 10,
   "metadata": {},
   "outputs": [
    {
     "data": {
      "text/plain": [
       "airline_sentiment\n",
       "negative     63\n",
       "neutral     102\n",
       "positive     71\n",
       "Name: text, dtype: int64"
      ]
     },
     "execution_count": 10,
     "metadata": {},
     "output_type": "execute_result"
    }
   ],
   "source": [
    "low_confidence.groupby('airline_sentiment').count().text"
   ]
  },
  {
   "cell_type": "markdown",
   "metadata": {},
   "source": [
    "Note that by discarding low confidence rows, we would be removing fewer rows with negative sentiment than neutral and positive, thus slightly increasing our bias towards negative rows. This also indicates that it may be slightly harder for humans to correctly classify neutral and positive sentiments compared to negative sentiments.\n",
    "\n",
    "We now have enough information to describe our sentiment classification task:\n",
    "- This is a **3-way classification task**, with categories: *negative*, *neutral*, and *positive*.\n",
    "- This is an unbalanced dataset, biased towards the *negative* class.\n",
    "- Our naive baseline model, which always predicts *negative*, has an accuracy of 62.69%.\n",
    "\n",
    "Next, let's take a look at our negative reason classification task. <a name=\"negativereason\" />"
   ]
  },
  {
   "cell_type": "code",
   "execution_count": 11,
   "metadata": {},
   "outputs": [
    {
     "data": {
      "text/html": [
       "<div>\n",
       "<style scoped>\n",
       "    .dataframe tbody tr th:only-of-type {\n",
       "        vertical-align: middle;\n",
       "    }\n",
       "\n",
       "    .dataframe tbody tr th {\n",
       "        vertical-align: top;\n",
       "    }\n",
       "\n",
       "    .dataframe thead th {\n",
       "        text-align: right;\n",
       "    }\n",
       "</style>\n",
       "<table border=\"1\" class=\"dataframe\">\n",
       "  <thead>\n",
       "    <tr style=\"text-align: right;\">\n",
       "      <th></th>\n",
       "      <th>raw counts</th>\n",
       "      <th>% of rows</th>\n",
       "    </tr>\n",
       "    <tr>\n",
       "      <th>negativereason</th>\n",
       "      <th></th>\n",
       "      <th></th>\n",
       "    </tr>\n",
       "  </thead>\n",
       "  <tbody>\n",
       "    <tr>\n",
       "      <th>Bad Flight</th>\n",
       "      <td>580</td>\n",
       "      <td>6.319460</td>\n",
       "    </tr>\n",
       "    <tr>\n",
       "      <th>Can't Tell</th>\n",
       "      <td>1190</td>\n",
       "      <td>12.965788</td>\n",
       "    </tr>\n",
       "    <tr>\n",
       "      <th>Cancelled Flight</th>\n",
       "      <td>847</td>\n",
       "      <td>9.228590</td>\n",
       "    </tr>\n",
       "    <tr>\n",
       "      <th>Customer Service Issue</th>\n",
       "      <td>2910</td>\n",
       "      <td>31.706254</td>\n",
       "    </tr>\n",
       "    <tr>\n",
       "      <th>Damaged Luggage</th>\n",
       "      <td>74</td>\n",
       "      <td>0.806276</td>\n",
       "    </tr>\n",
       "    <tr>\n",
       "      <th>Flight Attendant Complaints</th>\n",
       "      <td>481</td>\n",
       "      <td>5.240793</td>\n",
       "    </tr>\n",
       "    <tr>\n",
       "      <th>Flight Booking Problems</th>\n",
       "      <td>529</td>\n",
       "      <td>5.763783</td>\n",
       "    </tr>\n",
       "    <tr>\n",
       "      <th>Late Flight</th>\n",
       "      <td>1665</td>\n",
       "      <td>18.141207</td>\n",
       "    </tr>\n",
       "    <tr>\n",
       "      <th>Lost Luggage</th>\n",
       "      <td>724</td>\n",
       "      <td>7.888429</td>\n",
       "    </tr>\n",
       "    <tr>\n",
       "      <th>longlines</th>\n",
       "      <td>178</td>\n",
       "      <td>1.939420</td>\n",
       "    </tr>\n",
       "  </tbody>\n",
       "</table>\n",
       "</div>"
      ],
      "text/plain": [
       "                             raw counts  % of rows\n",
       "negativereason                                    \n",
       "Bad Flight                          580   6.319460\n",
       "Can't Tell                         1190  12.965788\n",
       "Cancelled Flight                    847   9.228590\n",
       "Customer Service Issue             2910  31.706254\n",
       "Damaged Luggage                      74   0.806276\n",
       "Flight Attendant Complaints         481   5.240793\n",
       "Flight Booking Problems             529   5.763783\n",
       "Late Flight                        1665  18.141207\n",
       "Lost Luggage                        724   7.888429\n",
       "longlines                           178   1.939420"
      ]
     },
     "execution_count": 11,
     "metadata": {},
     "output_type": "execute_result"
    }
   ],
   "source": [
    "unique_cat_stats(df_raw[df_raw.airline_sentiment == 'negative'], 'negativereason')"
   ]
  },
  {
   "cell_type": "markdown",
   "metadata": {},
   "source": [
    "We have 10 categories of cleanly-labelled negative reasons if we disregard null rows (i.e. non-negative sentiment).\n",
    "\n",
    "As with the sentiment labels, the negative reason labels also have a confidence associated with them. <a name=\"negativereason_confidence\" />"
   ]
  },
  {
   "cell_type": "code",
   "execution_count": 12,
   "metadata": {},
   "outputs": [
    {
     "name": "stdout",
     "output_type": "stream",
     "text": [
      "min: 0.3122 max: 1.0\n"
     ]
    },
    {
     "data": {
      "image/png": "[encoded data removed]",
      "text/plain": [
       "<Figure size 432x288 with 1 Axes>"
      ]
     },
     "metadata": {
      "needs_background": "light"
     },
     "output_type": "display_data"
    }
   ],
   "source": [
    "negatives = df_raw[df_raw.airline_sentiment == 'negative']\n",
    "print('min:', negatives.negativereason_confidence.min(), 'max:', negatives.negativereason_confidence.max())\n",
    "plt.hist(negatives.negativereason_confidence, bins=np.linspace(0,1,101));"
   ]
  },
  {
   "cell_type": "code",
   "execution_count": 13,
   "metadata": {},
   "outputs": [
    {
     "name": "stdout",
     "output_type": "stream",
     "text": [
      "n_low_confidence:  1781 \n",
      "n_med_confidence:  3952 \n",
      "n_high_confidence: 3445\n"
     ]
    }
   ],
   "source": [
    "low_confidence  = negatives[(0.2 < negatives.negativereason_confidence) & (negatives.negativereason_confidence < 0.5)]\n",
    "med_confidence  = negatives[(0.5 < negatives.negativereason_confidence) & (negatives.negativereason_confidence < 0.8)]\n",
    "high_confidence = negatives[(0.8 < negatives.negativereason_confidence)]\n",
    "print('n_low_confidence: ', len(low_confidence), '\\nn_med_confidence: ', len(med_confidence),\n",
    "      '\\nn_high_confidence:', len(high_confidence))\n",
    "#for r in low_confidence.sample(n=20, random_state=42).iterrows(): print(r[1].negativereason, r[1].text)\n",
    "#for r in med_confidence.sample(n=20, random_state=42).iterrows(): print(r[1].negativereason, r[1].text)\n",
    "#for r in high_confidence.sample(n=20, random_state=42).iterrows(): print(r[1].negativereason, r[1].text)"
   ]
  },
  {
   "cell_type": "markdown",
   "metadata": {},
   "source": [
    "Of a sample of 20 low confidence negative reasons, I think 2 are misclassified and 3 should not actually be negative. Of a sample of 20 medium confidence negative reasons, I think 2 mention more than one issue with one of the issues listed as the negative reason, otherwise I agree with the classifications. I agree with all of a sampled 20 high confidence negative reasons. It might be helpful to reduce importance of these rows to the training loss.\n",
    "\n",
    "Now we can describe our negative reason classification task:\n",
    "- This is a **10- or 11-way classification task**, with 10 categories plus 1 N/A class if we choose to include it.\n",
    "- This is an unbalanced dataset, biased significantly towards the *N/A* and *Customer Service Issue* classes and against the *Damaged Luggage* and *longlines* classes.\n",
    "- Our naive baseline model for the 10-way task always predicts *Customer Service Issue* with an accuracy of 31.71%.\n",
    "- Our naive baseline model for the 11-way task always predicts *N/A* with an accuracy of 37.31%.\n",
    "\n",
    "Next, let's take a look at the tweet text and identify what kinds of preprocessing might be helpful.  <a name=\"text\" />"
   ]
  },
  {
   "cell_type": "code",
   "execution_count": 14,
   "metadata": {},
   "outputs": [
    {
     "data": {
      "text/plain": [
       "count              14640\n",
       "unique             14427\n",
       "top       @united thanks\n",
       "freq                   6\n",
       "Name: text, dtype: object"
      ]
     },
     "execution_count": 14,
     "metadata": {},
     "output_type": "execute_result"
    }
   ],
   "source": [
    "df_raw['text'].describe()"
   ]
  },
  {
   "cell_type": "markdown",
   "metadata": {},
   "source": [
    "Good...all rows have tweet data. 213 rows contain duplicate text."
   ]
  },
  {
   "cell_type": "code",
   "execution_count": 15,
   "metadata": {},
   "outputs": [
    {
     "name": "stdout",
     "output_type": "stream",
     "text": [
      "     airline_sentiment  airline_sentiment_confidence\n",
      "504           positive                        1.0000\n",
      "515           positive                        0.6634\n",
      "2285          positive                        0.6809\n",
      "2859          positive                        1.0000\n",
      "3565           neutral                        0.7168\n",
      "3604          positive                        1.0000\n"
     ]
    }
   ],
   "source": [
    "print(df_raw[df_raw['text'] == '@united thanks'][['airline_sentiment', 'airline_sentiment_confidence']])"
   ]
  },
  {
   "cell_type": "markdown",
   "metadata": {},
   "source": [
    "Interesting...the most frequent text '@united thanks' receives different labels. This certainly reduces confidence in the accuracy of our labels. When we review how well our initial model performs, we should consider how robust our model is to noisy labels and consider whether it would be worth our time to remove or relabel some samples.\n",
    "\n",
    "Let's examine the length of the tweets. We would expect a cap at 160 characters due to Twitter's character limit in 2015."
   ]
  },
  {
   "cell_type": "code",
   "execution_count": 16,
   "metadata": {},
   "outputs": [
    {
     "name": "stdout",
     "output_type": "stream",
     "text": [
      "count    14640.000000\n",
      "mean       103.822063\n",
      "std         36.277339\n",
      "min         12.000000\n",
      "25%         77.000000\n",
      "50%        114.000000\n",
      "75%        136.000000\n",
      "max        186.000000\n",
      "Name: text_len, dtype: float64\n"
     ]
    },
    {
     "data": {
      "image/png": "[encoded data removed]",
      "text/plain": [
       "<Figure size 432x288 with 1 Axes>"
      ]
     },
     "metadata": {
      "needs_background": "light"
     },
     "output_type": "display_data"
    }
   ],
   "source": [
    "df_raw['text_len'] = df_raw.text.apply(len)\n",
    "print(df_raw.text_len.describe())\n",
    "plt.hist(df_raw.text.apply(len), bins=np.linspace(0, 200, 21));"
   ]
  },
  {
   "cell_type": "markdown",
   "metadata": {},
   "source": [
    "Tweet length appears follow an interesting distribution - in particular, we can see a spike in texts around the 160 limit. This is an interesting feature that we should consider preserving - Twitter users who have more to say may, for instance, be feeling stronger sentiment compared to users who aren't interested in writing very much. Since our ULMFiT model is based on words, we'll be degrading this potential signal. Adding a field for original text length in characters would preserve this signal.\n",
    "\n",
    "The shortest tweet is a reasonable 12 characters, however, some tweets appear to be exceeding Twitter's character limit. We should investigate this."
   ]
  },
  {
   "cell_type": "code",
   "execution_count": 17,
   "metadata": {},
   "outputs": [
    {
     "name": "stdout",
     "output_type": "stream",
     "text": [
      "(8359, '@JetBlue Hey guys! Your Flight Booking Problems system ran my first and middle names together at time of Flight Booking Problems. Is that going to be a #TSAnightmare ?')\n",
      "(10405, \"@USAirways Eyyyy! Cancelled Flightlations, Flight Booking Problemss, reFlight Booking Problemss, but y'all got me on the same flight out tonight (not tomorrow) &amp; the FC upgrade. Thx!\")\n",
      "(11665, '@USAirways My Flight Booking Problems C68LD9 just times out when I select it under Manage My Flight Booking Problems for months now. I have emailed but no response. Help?')\n",
      "(11783, \"@USAirways Flight Booking Problems a flight using credit from a previously Cancelled Flightled flight. Can't get thru on the phone and can't book online. Help please.\")\n",
      "(11807, '@USAirways Travelling from pwm to atl on Sunday That flight got Cancelled Flightled and my new flight is Cancelled Flightled and got disconnected when reFlight Booking Problems')\n",
      "(12208, \"@AmericanAir When Flight Booking Problems an int'l flight online, do I have to provide a passport number when Flight Booking Problems or just when I arrive at airport?\")\n"
     ]
    }
   ],
   "source": [
    "# change 165 to 160 or lower for more examples\n",
    "for t in df_raw.text[df_raw.text_len > 165].iteritems(): print(t)"
   ]
  },
  {
   "cell_type": "markdown",
   "metadata": {},
   "source": [
    "Notably, all of these include negative reasons have similar spelling errors such as 'Cancelled Flighted', 'Cancelled Flightled', 'reFlight Booking Problems', 'Flight Booking Problems', 'Late Flightr'.\n",
    "\n",
    "While I had no luck finding exact methods used to preprocess this dataset, one person in a [Kaggle discussion](https://www.kaggle.com/crowdflower/twitter-airline-sentiment/discussion/18283) hypothesized that a find/replace operation was applied to particular strings in the tweets (e.g. 'late' -> 'Late Flight' and 'cancel' -> Cancelled Flight).\n",
    "\n",
    "Let's look into this theory, by checking whether potentially replaced words exist in the text."
   ]
  },
  {
   "cell_type": "code",
   "execution_count": 18,
   "metadata": {},
   "outputs": [],
   "source": [
    "# negative reasons: ['Bad Flight', \"Can't Tell\", 'Late Flight', 'Customer Service Issue', 'Flight Booking Problems',\n",
    "#                    'Lost Luggage', 'Flight Attendant Complaints', 'Cancelled Flight', 'Damaged Luggage', 'longlines']\n",
    "for i, text in df_raw.text.iteritems():\n",
    "    if 'late' in text: print(text)"
   ]
  },
  {
   "cell_type": "markdown",
   "metadata": {},
   "source": [
    "For brevity, I haven't shown the full investigation, however it seems clear that the following replacements were made:\n",
    "* 'cancel' -> 'Cancelled Flight'\n",
    "* 'late' -> 'Late Flight'\n",
    "* 'booking' -> 'Flight Booking Problems'\n",
    "\n",
    "We could try undo-ing the find/replace operation, but we risk removing occurrences where the text was actually written as such. Let's leave this for now as a possibility to explore in the future.\n",
    "\n",
    "During the course of the text investigation, there were a few more noteworthy observations:\n",
    "* There is some HTML (e.g. \\\\& amp;) to be cleaned, but fastai takes care of this by default.\n",
    "* Some tweets contain shortened URLs. Short of following the URLs and scraping them for additional data, they don't have any meaning beyond their existence in the tweet. By replacing the URL with a token 'xxurl', we could identify that the user went to the effort of adding a URL.\n",
    "\n",
    "For ULMFiT classification, we only need the columns we've reviewed so far: the language inputs 'text' and the labels 'airline_sentiment' and/or 'negativereason'. However, we could also consider adding other columns as inputs and there aren't too many to explore, so let's look at them now, starting with the location data. <a name=\"tweet_coord\" />"
   ]
  },
  {
   "cell_type": "code",
   "execution_count": 19,
   "metadata": {},
   "outputs": [
    {
     "data": {
      "text/html": [
       "<div>\n",
       "<style scoped>\n",
       "    .dataframe tbody tr th:only-of-type {\n",
       "        vertical-align: middle;\n",
       "    }\n",
       "\n",
       "    .dataframe tbody tr th {\n",
       "        vertical-align: top;\n",
       "    }\n",
       "\n",
       "    .dataframe thead th {\n",
       "        text-align: right;\n",
       "    }\n",
       "</style>\n",
       "<table border=\"1\" class=\"dataframe\">\n",
       "  <thead>\n",
       "    <tr style=\"text-align: right;\">\n",
       "      <th></th>\n",
       "      <th>tweet_coord</th>\n",
       "      <th>tweet_location</th>\n",
       "      <th>user_timezone</th>\n",
       "    </tr>\n",
       "  </thead>\n",
       "  <tbody>\n",
       "    <tr>\n",
       "      <th>count</th>\n",
       "      <td>1019</td>\n",
       "      <td>9907</td>\n",
       "      <td>9820</td>\n",
       "    </tr>\n",
       "    <tr>\n",
       "      <th>unique</th>\n",
       "      <td>832</td>\n",
       "      <td>3081</td>\n",
       "      <td>85</td>\n",
       "    </tr>\n",
       "    <tr>\n",
       "      <th>top</th>\n",
       "      <td>[0.0, 0.0]</td>\n",
       "      <td>Boston, MA</td>\n",
       "      <td>Eastern Time (US &amp; Canada)</td>\n",
       "    </tr>\n",
       "    <tr>\n",
       "      <th>freq</th>\n",
       "      <td>164</td>\n",
       "      <td>157</td>\n",
       "      <td>3744</td>\n",
       "    </tr>\n",
       "  </tbody>\n",
       "</table>\n",
       "</div>"
      ],
      "text/plain": [
       "       tweet_coord tweet_location               user_timezone\n",
       "count         1019           9907                        9820\n",
       "unique         832           3081                          85\n",
       "top     [0.0, 0.0]     Boston, MA  Eastern Time (US & Canada)\n",
       "freq           164            157                        3744"
      ]
     },
     "execution_count": 19,
     "metadata": {},
     "output_type": "execute_result"
    }
   ],
   "source": [
    "df_raw[['tweet_coord', 'tweet_location', 'user_timezone']].describe()"
   ]
  },
  {
   "cell_type": "code",
   "execution_count": 20,
   "metadata": {
    "scrolled": true
   },
   "outputs": [],
   "source": [
    "location_counts = df_raw.tweet_location.value_counts()\n",
    "#location_counts[location_counts > 20]"
   ]
  },
  {
   "cell_type": "markdown",
   "metadata": {},
   "source": [
    "Tweet coordinates are infrequently listed compared to tweet location and user timezone. Tweet location could reasonably be predictive on its own, as specific airports and general regions could both be reasonably predictive in both tasks (e.g maybe NYC has generally more delays and/or cancellations and/or grumpier travellers). However, it looks like this column contains bogus values as well as values with similar meanings but different spellings and would require some effort to clean.\n",
    "\n",
    "Next let's check out the date and time columns. <a name=\"tweet_created\" />"
   ]
  },
  {
   "cell_type": "code",
   "execution_count": 21,
   "metadata": {},
   "outputs": [
    {
     "data": {
      "text/plain": [
       "('min:',\n",
       " '2015-02-16 23:36:05 -0800',\n",
       " 'max:',\n",
       " '2015-02-24 11:53:37 -0800',\n",
       " count                         14640\n",
       " unique                        14247\n",
       " top       2015-02-24 09:54:34 -0800\n",
       " freq                              5\n",
       " Name: tweet_created, dtype: object)"
      ]
     },
     "execution_count": 21,
     "metadata": {},
     "output_type": "execute_result"
    }
   ],
   "source": [
    "'min:', df_raw.tweet_created.min(), 'max:', df_raw.tweet_created.max(), df_raw.tweet_created.describe()"
   ]
  },
  {
   "cell_type": "markdown",
   "metadata": {},
   "source": [
    "Here we see confirmation that the tweets were collected in a span of 1 week between Feb 16, 2015 and Feb 24, 2015."
   ]
  },
  {
   "cell_type": "code",
   "execution_count": 22,
   "metadata": {
    "scrolled": true
   },
   "outputs": [
    {
     "data": {
      "text/plain": [
       "Unknown                        4820\n",
       "Eastern Time (US & Canada)     3744\n",
       "Central Time (US & Canada)     1931\n",
       "Pacific Time (US & Canada)     1208\n",
       "Quito                           738\n",
       "Atlantic Time (Canada)          497\n",
       "Mountain Time (US & Canada)     369\n",
       "Arizona                         229\n",
       "London                          195\n",
       "Alaska                          108\n",
       "Sydney                          107\n",
       "Hawaii                          104\n",
       "Amsterdam                        74\n",
       "America/Chicago                  37\n",
       "Indiana (East)                   26\n",
       "America/New_York                 26\n",
       "Paris                            25\n",
       "Brasilia                         23\n",
       "Abu Dhabi                        23\n",
       "Name: user_timezone, dtype: int64"
      ]
     },
     "execution_count": 22,
     "metadata": {},
     "output_type": "execute_result"
    }
   ],
   "source": [
    "timezone_freq = df_raw.user_timezone.fillna('Unknown').value_counts()\n",
    "timezone_freq[timezone_freq > 20]"
   ]
  },
  {
   "cell_type": "markdown",
   "metadata": {},
   "source": [
    "With only 1 week of data, we can ignore the date portion of the timestamp, however the time of day is more likely to be relevant. In particular, the combination of 'user_timezone', 'tweet_location', and 'tweet_created' could be useful for the model in detecting both sentiment and negative reason (e.g. 2am tweets might tend to be more negative and caused by delays).\n",
    "\n",
    "Finally, let's take a look at retweet_count. <a name=\"retweet_count\" />"
   ]
  },
  {
   "cell_type": "code",
   "execution_count": 23,
   "metadata": {},
   "outputs": [
    {
     "name": "stdout",
     "output_type": "stream",
     "text": [
      "count    14640.000000\n",
      "mean         0.082650\n",
      "std          0.745778\n",
      "min          0.000000\n",
      "25%          0.000000\n",
      "50%          0.000000\n",
      "75%          0.000000\n",
      "max         44.000000\n",
      "Name: retweet_count, dtype: float64\n",
      "\n",
      "Frequency of counts:\n",
      " 0     13873\n",
      "1       640\n",
      "2        66\n",
      "3        22\n",
      "4        17\n",
      "5         5\n",
      "7         3\n",
      "6         3\n",
      "22        2\n",
      "8         1\n",
      "32        1\n",
      "9         1\n",
      "31        1\n",
      "18        1\n",
      "15        1\n",
      "28        1\n",
      "44        1\n",
      "11        1\n",
      "Name: retweet_count, dtype: int64\n"
     ]
    }
   ],
   "source": [
    "retweet_count_freqs = df_raw.retweet_count.value_counts() \n",
    "print(df_raw.retweet_count.describe())\n",
    "print('\\nFrequency of counts:\\n', retweet_count_freqs)"
   ]
  },
  {
   "cell_type": "markdown",
   "metadata": {},
   "source": [
    "There may be value in retweet counts, but could also be easy for the model to quickly memorize the training data for infrequently encountered tweet counts. A simple way to address this is to bin the counts (e.g. bins = 0, 1, 2, 3+)."
   ]
  },
  {
   "cell_type": "markdown",
   "metadata": {},
   "source": [
    "#### Prepare Training, Validation, and Test Sets <a name=\"prepare-datasets\"></a>\n",
    "\n",
    "First, we'll preprocess the data according to our earlier analysis, starting with dropping unused columns:"
   ]
  },
  {
   "cell_type": "code",
   "execution_count": 24,
   "metadata": {},
   "outputs": [
    {
     "data": {
      "text/plain": [
       "Index(['airline_sentiment', 'airline_sentiment_confidence', 'negativereason',\n",
       "       'negativereason_confidence', 'retweet_count', 'text', 'tweet_created',\n",
       "       'user_timezone', 'text_len'],\n",
       "      dtype='object')"
      ]
     },
     "execution_count": 24,
     "metadata": {},
     "output_type": "execute_result"
    }
   ],
   "source": [
    "df = df_raw.copy()\n",
    "df.drop(columns=['tweet_id', 'airline', 'airline_sentiment_gold', 'name', \n",
    "                 'negativereason_gold', 'tweet_coord', 'tweet_location'], \n",
    "        inplace=True)\n",
    "df.columns"
   ]
  },
  {
   "cell_type": "markdown",
   "metadata": {},
   "source": [
    "Converting the 'tweet_created' to a datetime object:"
   ]
  },
  {
   "cell_type": "code",
   "execution_count": 25,
   "metadata": {},
   "outputs": [
    {
     "name": "stdout",
     "output_type": "stream",
     "text": [
      "datetime64[ns, pytz.FixedOffset(-480)]\n"
     ]
    }
   ],
   "source": [
    "df.tweet_created = pd.to_datetime(df.tweet_created, infer_datetime_format=True)\n",
    "print(df.tweet_created.dtype)"
   ]
  },
  {
   "cell_type": "markdown",
   "metadata": {},
   "source": [
    "Mapping non-standard timezones to standard timezones for all values of 'user_timezone' with 20 or more occurrences; then finding the local date and time:"
   ]
  },
  {
   "cell_type": "code",
   "execution_count": 26,
   "metadata": {},
   "outputs": [],
   "source": [
    "tz_conversions = {'Eastern Time (US & Canada)': 'US/Eastern', 'Central Time (US & Canada)': 'US/Central',\n",
    "    'Pacific Time (US & Canada)': 'US/Pacific', 'Quito': 'Etc/GMT-5', 'Atlantic Time (Canada)': 'Canada/Atlantic',\n",
    "    'Mountain Time (US & Canada)': 'US/Mountain', 'Arizona': 'US/Arizona', 'London': 'Europe/London',\n",
    "    'Alaska': 'US/Alaska', 'Sydney': 'Australia/Sydney', 'Hawaii': 'US/Hawaii', 'Amsterdam': 'Europe/Amsterdam',\n",
    "    'Indiana (East)': 'US/East-Indiana', 'Paris': 'Europe/Paris', 'Abu Dhabi': 'Etc/GMT+4', 'Brasilia': 'Etc/GMT-3'}\n",
    "\n",
    "def toLocalTime(dt, tz, nonstd_tz_map=None):\n",
    "    \"\"\"Convert a date, `dt`, to the local time at timezone, `tz`, optionally correcting .\"\"\"\n",
    "    if tz in pytz.all_timezones: std_tz = tz\n",
    "    elif nonstd_tz_map and tz in nonstd_tz_map: std_tz = nonstd_tz_map[tz]\n",
    "    else: return None\n",
    "    return dt.astimezone(std_tz)\n",
    "\n",
    "local_dt = df.apply(lambda row: toLocalTime(row.tweet_created, row.user_timezone, tz_conversions), axis=1)"
   ]
  },
  {
   "cell_type": "markdown",
   "metadata": {},
   "source": [
    "Creating new hour column from the local datetime and dropping the remaining datetime columns:"
   ]
  },
  {
   "cell_type": "code",
   "execution_count": 27,
   "metadata": {},
   "outputs": [
    {
     "data": {
      "text/html": [
       "<div>\n",
       "<style scoped>\n",
       "    .dataframe tbody tr th:only-of-type {\n",
       "        vertical-align: middle;\n",
       "    }\n",
       "\n",
       "    .dataframe tbody tr th {\n",
       "        vertical-align: top;\n",
       "    }\n",
       "\n",
       "    .dataframe thead th {\n",
       "        text-align: right;\n",
       "    }\n",
       "</style>\n",
       "<table border=\"1\" class=\"dataframe\">\n",
       "  <thead>\n",
       "    <tr style=\"text-align: right;\">\n",
       "      <th></th>\n",
       "      <th>airline_sentiment</th>\n",
       "      <th>airline_sentiment_confidence</th>\n",
       "      <th>negativereason</th>\n",
       "      <th>negativereason_confidence</th>\n",
       "      <th>retweet_count</th>\n",
       "      <th>text</th>\n",
       "      <th>tweet_created</th>\n",
       "      <th>user_timezone</th>\n",
       "      <th>text_len</th>\n",
       "      <th>tweet_createdLocalHour</th>\n",
       "    </tr>\n",
       "  </thead>\n",
       "  <tbody>\n",
       "    <tr>\n",
       "      <th>0</th>\n",
       "      <td>neutral</td>\n",
       "      <td>1.0000</td>\n",
       "      <td>NaN</td>\n",
       "      <td>NaN</td>\n",
       "      <td>0</td>\n",
       "      <td>@VirginAmerica What @dhepburn said.</td>\n",
       "      <td>2015-02-24 11:35:52-08:00</td>\n",
       "      <td>Eastern Time (US &amp; Canada)</td>\n",
       "      <td>35</td>\n",
       "      <td>xxtweet_createdLocalHour_14.0</td>\n",
       "    </tr>\n",
       "    <tr>\n",
       "      <th>1</th>\n",
       "      <td>positive</td>\n",
       "      <td>0.3486</td>\n",
       "      <td>NaN</td>\n",
       "      <td>0.0</td>\n",
       "      <td>0</td>\n",
       "      <td>@VirginAmerica plus you've added commercials t...</td>\n",
       "      <td>2015-02-24 11:15:59-08:00</td>\n",
       "      <td>Pacific Time (US &amp; Canada)</td>\n",
       "      <td>72</td>\n",
       "      <td>xxtweet_createdLocalHour_11.0</td>\n",
       "    </tr>\n",
       "  </tbody>\n",
       "</table>\n",
       "</div>"
      ],
      "text/plain": [
       "  airline_sentiment  airline_sentiment_confidence negativereason  \\\n",
       "0           neutral                        1.0000            NaN   \n",
       "1          positive                        0.3486            NaN   \n",
       "\n",
       "   negativereason_confidence  retweet_count  \\\n",
       "0                        NaN              0   \n",
       "1                        0.0              0   \n",
       "\n",
       "                                                text  \\\n",
       "0                @VirginAmerica What @dhepburn said.   \n",
       "1  @VirginAmerica plus you've added commercials t...   \n",
       "\n",
       "              tweet_created               user_timezone  text_len  \\\n",
       "0 2015-02-24 11:35:52-08:00  Eastern Time (US & Canada)        35   \n",
       "1 2015-02-24 11:15:59-08:00  Pacific Time (US & Canada)        72   \n",
       "\n",
       "          tweet_createdLocalHour  \n",
       "0  xxtweet_createdLocalHour_14.0  \n",
       "1  xxtweet_createdLocalHour_11.0  "
      ]
     },
     "execution_count": 27,
     "metadata": {},
     "output_type": "execute_result"
    }
   ],
   "source": [
    "def extractHour(dt): \n",
    "    if hasattr(dt, 'hour'): return dt.hour\n",
    "\n",
    "df['tweet_createdLocalHour'] = 'xxtweet_createdLocalHour_' + (local_dt.apply(extractHour)).astype(str)\n",
    "df.head(2)"
   ]
  },
  {
   "cell_type": "markdown",
   "metadata": {},
   "source": [
    "Binning 'retweet_count' into buckets: 0, 1, 2, and 3+, and 'text_len' into buckets: <75, 75to130, >130."
   ]
  },
  {
   "cell_type": "code",
   "execution_count": 28,
   "metadata": {},
   "outputs": [
    {
     "data": {
      "text/plain": [
       "xxtextlencount_75_130    5862\n",
       "xxtextlencount_>130      5241\n",
       "xxtextlencount_<=75      3537\n",
       "Name: text_len, dtype: int64"
      ]
     },
     "execution_count": 28,
     "metadata": {},
     "output_type": "execute_result"
    }
   ],
   "source": [
    "tl_int = df.text_len.copy()\n",
    "df.loc[:, 'text_len'] = df.text_len.astype(str)\n",
    "df.loc[tl_int <= 75, 'text_len'] = '<=75'\n",
    "df.loc[(tl_int > 75) & (tl_int < 130), 'text_len'] = '75_130'\n",
    "df.loc[tl_int >= 130, 'text_len'] = '>130'\n",
    "df.loc[:, 'text_len'] = 'xxtextlencount_' + df.text_len\n",
    "df.text_len.value_counts()"
   ]
  },
  {
   "cell_type": "code",
   "execution_count": 29,
   "metadata": {},
   "outputs": [
    {
     "data": {
      "text/plain": [
       "xxretweetcount_0     13873\n",
       "xxretweetcount_1       640\n",
       "xxretweetcount_2        66\n",
       "xxretweetcount_3+       61\n",
       "Name: retweet_count, dtype: int64"
      ]
     },
     "execution_count": 29,
     "metadata": {},
     "output_type": "execute_result"
    }
   ],
   "source": [
    "df.loc[:, 'retweet_count'] = df.retweet_count.astype(str)\n",
    "df.loc[df.retweet_count.astype(np.int64) >= 3, 'retweet_count'] = '3+'\n",
    "df.loc[:, 'retweet_count'] = 'xxretweetcount_' + df.retweet_count\n",
    "df.retweet_count.value_counts()"
   ]
  },
  {
   "cell_type": "markdown",
   "metadata": {},
   "source": [
    "#### Create test set\n",
    "\n",
    "To create the test set, we pull out 7% of the original data, randomly sampled, to create a test dataset of 1024 samples. This leaves 13616 tweets for training and validation. 7% split was chosen so that our test accuracy will have ~3 digits of precision (`3.01 = log10(1024)`, note: this is a very rough approximation). We'll create a similarly-sized validation set. This sample size would not be a good choice if we cared about small changes in prediction accuracy. However, it is sufficient for broadly determining the ability of a ULMFiT model to fit the data and to compare the model with others.\n",
    "\n",
    "It is important to mention that the test set is created from a sample of the full dataset, before removing any rows, regardless of labelling accuracy. This ensures that our test set best represents the real data distribution and does not overestimate our model's performance. Given a more specific goal, we should revisit this decision to ensure that the test set best represents the data distribution of the goal task.\n",
    "\n",
    "Thus far, we have considered modeling both sentiment and negative reason classification. From here on we'll focus on modeling sentiment only. The process for modelling negative reason would be similar."
   ]
  },
  {
   "cell_type": "code",
   "execution_count": 30,
   "metadata": {
    "scrolled": true
   },
   "outputs": [
    {
     "name": "stdout",
     "output_type": "stream",
     "text": [
      "n_train: 13616\n",
      "n_test: 1024\n"
     ]
    }
   ],
   "source": [
    "test_pct = 0.07\n",
    "\n",
    "# get random indices for our train and test sets\n",
    "np.random.seed(9741) # set seed to ensure we always get the same test set\n",
    "random_idx = np.random.permutation(len(df))\n",
    "n_test = int(len(df) * test_pct)\n",
    "train_idx = random_idx[:-n_test]\n",
    "test_idx = random_idx[-n_test:]\n",
    "\n",
    "# split train and test sets\n",
    "df_train = df.iloc[train_idx].copy()\n",
    "df_test = df.iloc[test_idx].copy()\n",
    "\n",
    "print('n_train:', len(df_train))\n",
    "print('n_test:', len(df_test))"
   ]
  },
  {
   "cell_type": "markdown",
   "metadata": {},
   "source": [
    "#### Mark validation set\n",
    "\n",
    "To create the validation set, we'll add a new column to the training dataframe for identifying these rows."
   ]
  },
  {
   "cell_type": "code",
   "execution_count": 31,
   "metadata": {},
   "outputs": [],
   "source": [
    "valid_pct = 0.2\n",
    "\n",
    "n_valid = int(valid_pct * len(df_train))\n",
    "\n",
    "# get random indices for our validation set\n",
    "np.random.seed(8874) # make sure we always get the same random values\n",
    "valid_idx = np.array([0] * (len(df_train) - n_valid) + [1] * n_valid)\n",
    "valid_idx = np.random.permutation(valid_idx)\n",
    "df_train['is_valid'] = valid_idx"
   ]
  },
  {
   "cell_type": "markdown",
   "metadata": {},
   "source": [
    "#### Finalize training set\n",
    "\n",
    "We'll remove rows which have low confidence labels from our training set and drop columns not used in sentiment classification. Note that we don't remove these rows from our test set as this would not reflect the real data and might lead to unrealistic expectations."
   ]
  },
  {
   "cell_type": "code",
   "execution_count": 32,
   "metadata": {},
   "outputs": [],
   "source": [
    "df_train = df_train[df_train.airline_sentiment_confidence > 0.5]\n",
    "df_train = df_train[cols + ['is_valid']]\n",
    "\n",
    "df_test = df_test[cols]"
   ]
  },
  {
   "cell_type": "markdown",
   "metadata": {},
   "source": [
    "One final look at the data to make sure we didn't make any obvious mistakes:"
   ]
  },
  {
   "cell_type": "code",
   "execution_count": 33,
   "metadata": {},
   "outputs": [
    {
     "name": "stdout",
     "output_type": "stream",
     "text": [
      "Sentiment classification - training set: 13392\n"
     ]
    },
    {
     "data": {
      "text/html": [
       "<div>\n",
       "<style scoped>\n",
       "    .dataframe tbody tr th:only-of-type {\n",
       "        vertical-align: middle;\n",
       "    }\n",
       "\n",
       "    .dataframe tbody tr th {\n",
       "        vertical-align: top;\n",
       "    }\n",
       "\n",
       "    .dataframe thead th {\n",
       "        text-align: right;\n",
       "    }\n",
       "</style>\n",
       "<table border=\"1\" class=\"dataframe\">\n",
       "  <thead>\n",
       "    <tr style=\"text-align: right;\">\n",
       "      <th></th>\n",
       "      <th>airline_sentiment</th>\n",
       "      <th>text_len</th>\n",
       "      <th>retweet_count</th>\n",
       "      <th>tweet_createdLocalHour</th>\n",
       "      <th>text</th>\n",
       "      <th>is_valid</th>\n",
       "    </tr>\n",
       "  </thead>\n",
       "  <tbody>\n",
       "    <tr>\n",
       "      <th>5101</th>\n",
       "      <td>negative</td>\n",
       "      <td>xxtextlencount_&gt;130</td>\n",
       "      <td>xxretweetcount_0</td>\n",
       "      <td>xxtweet_createdLocalHour_nan</td>\n",
       "      <td>@SouthwestAir How to find out if my parents lu...</td>\n",
       "      <td>0</td>\n",
       "    </tr>\n",
       "    <tr>\n",
       "      <th>12352</th>\n",
       "      <td>negative</td>\n",
       "      <td>xxtextlencount_&gt;130</td>\n",
       "      <td>xxretweetcount_0</td>\n",
       "      <td>xxtweet_createdLocalHour_7.0</td>\n",
       "      <td>@AmericanAir don't merge with an airline that ...</td>\n",
       "      <td>0</td>\n",
       "    </tr>\n",
       "  </tbody>\n",
       "</table>\n",
       "</div>"
      ],
      "text/plain": [
       "      airline_sentiment             text_len     retweet_count  \\\n",
       "5101           negative  xxtextlencount_>130  xxretweetcount_0   \n",
       "12352          negative  xxtextlencount_>130  xxretweetcount_0   \n",
       "\n",
       "             tweet_createdLocalHour  \\\n",
       "5101   xxtweet_createdLocalHour_nan   \n",
       "12352  xxtweet_createdLocalHour_7.0   \n",
       "\n",
       "                                                    text  is_valid  \n",
       "5101   @SouthwestAir How to find out if my parents lu...         0  \n",
       "12352  @AmericanAir don't merge with an airline that ...         0  "
      ]
     },
     "execution_count": 33,
     "metadata": {},
     "output_type": "execute_result"
    }
   ],
   "source": [
    "print('Sentiment classification - training set:', len(df_train))\n",
    "df_train.head(2)"
   ]
  },
  {
   "cell_type": "code",
   "execution_count": 34,
   "metadata": {},
   "outputs": [
    {
     "name": "stdout",
     "output_type": "stream",
     "text": [
      "Sentiment classification - test set: 1024\n"
     ]
    },
    {
     "data": {
      "text/html": [
       "<div>\n",
       "<style scoped>\n",
       "    .dataframe tbody tr th:only-of-type {\n",
       "        vertical-align: middle;\n",
       "    }\n",
       "\n",
       "    .dataframe tbody tr th {\n",
       "        vertical-align: top;\n",
       "    }\n",
       "\n",
       "    .dataframe thead th {\n",
       "        text-align: right;\n",
       "    }\n",
       "</style>\n",
       "<table border=\"1\" class=\"dataframe\">\n",
       "  <thead>\n",
       "    <tr style=\"text-align: right;\">\n",
       "      <th></th>\n",
       "      <th>airline_sentiment</th>\n",
       "      <th>text_len</th>\n",
       "      <th>retweet_count</th>\n",
       "      <th>tweet_createdLocalHour</th>\n",
       "      <th>text</th>\n",
       "      <th>is_valid</th>\n",
       "    </tr>\n",
       "  </thead>\n",
       "  <tbody>\n",
       "    <tr>\n",
       "      <th>5101</th>\n",
       "      <td>negative</td>\n",
       "      <td>xxtextlencount_&gt;130</td>\n",
       "      <td>xxretweetcount_0</td>\n",
       "      <td>xxtweet_createdLocalHour_nan</td>\n",
       "      <td>@SouthwestAir How to find out if my parents lu...</td>\n",
       "      <td>0</td>\n",
       "    </tr>\n",
       "    <tr>\n",
       "      <th>12352</th>\n",
       "      <td>negative</td>\n",
       "      <td>xxtextlencount_&gt;130</td>\n",
       "      <td>xxretweetcount_0</td>\n",
       "      <td>xxtweet_createdLocalHour_7.0</td>\n",
       "      <td>@AmericanAir don't merge with an airline that ...</td>\n",
       "      <td>0</td>\n",
       "    </tr>\n",
       "  </tbody>\n",
       "</table>\n",
       "</div>"
      ],
      "text/plain": [
       "      airline_sentiment             text_len     retweet_count  \\\n",
       "5101           negative  xxtextlencount_>130  xxretweetcount_0   \n",
       "12352          negative  xxtextlencount_>130  xxretweetcount_0   \n",
       "\n",
       "             tweet_createdLocalHour  \\\n",
       "5101   xxtweet_createdLocalHour_nan   \n",
       "12352  xxtweet_createdLocalHour_7.0   \n",
       "\n",
       "                                                    text  is_valid  \n",
       "5101   @SouthwestAir How to find out if my parents lu...         0  \n",
       "12352  @AmericanAir don't merge with an airline that ...         0  "
      ]
     },
     "execution_count": 34,
     "metadata": {},
     "output_type": "execute_result"
    }
   ],
   "source": [
    "print('Sentiment classification - test set:', len(df_test))\n",
    "df_train.head(2)"
   ]
  },
  {
   "cell_type": "markdown",
   "metadata": {},
   "source": [
    "#### Save prepared datasets\n",
    "\n",
    "Save our work so that we can skip this preprocessing step when we return to this notebook later.\n",
    "\n",
    "As a convenience, we'll also prepare a data set which combines the training and test sets for training the language model in the next step."
   ]
  },
  {
   "cell_type": "code",
   "execution_count": 35,
   "metadata": {},
   "outputs": [
    {
     "name": "stdout",
     "output_type": "stream",
     "text": [
      "both: 14416 train: 13392 test: 1024\n"
     ]
    }
   ],
   "source": [
    "def save_df(df, filepath):\n",
    "    filepath.parent.mkdir(exist_ok=True)\n",
    "    df.to_csv(filepath, header=True, index=False)\n",
    "\n",
    "df_train_and_test = pd.concat([df_train.loc[:, cols], df_test])\n",
    "print('both:', len(df_train_and_test), 'train:', len(df_train), 'test:', len(df_test))\n",
    "\n",
    "save_df(df_train_and_test, path / 'train_and_test.csv')\n",
    "save_df(df_train, path / 'train.csv')\n",
    "save_df(df_test, path / 'test.csv')"
   ]
  },
  {
   "cell_type": "markdown",
   "metadata": {},
   "source": [
    "## 2. Language Model Fine-Tuning <a name=\"2\"></a>\n",
    "<a name=\"0\">[(... back to the top)](#top)</a> "
   ]
  },
  {
   "cell_type": "markdown",
   "metadata": {},
   "source": [
    "### Prepare language model data\n",
    "Since we aren't using our classification labels, we can use all of our data in this step, not just the training data. However, we do still need a validation set so we can tune our model. We create this by randomly sampling 10% of the original data (~1500 rows).\n",
    "\n",
    "This text processing step can take some time, so we save the language model data to disk for easy retrieval in the future."
   ]
  },
  {
   "cell_type": "code",
   "execution_count": 2,
   "metadata": {},
   "outputs": [],
   "source": [
    "data_lm = (TextList.from_csv(path, 'train_and_test.csv', cols=model_input_cols) # load data\n",
    "                   .split_by_rand_pct(0.1)    # create validation set from 10% of rows\n",
    "                   .label_for_lm()            # add dummy labels (labels are ignored by the language model)\n",
    "                   .databunch())              # prepare the data for use in fastai models\n",
    "data_lm.save('data_lm.pkl')"
   ]
  },
  {
   "cell_type": "markdown",
   "metadata": {},
   "source": [
    "For quickly reloading the data:"
   ]
  },
  {
   "cell_type": "code",
   "execution_count": 3,
   "metadata": {},
   "outputs": [],
   "source": [
    "data_lm = load_data(path, 'data_lm.pkl')"
   ]
  },
  {
   "cell_type": "markdown",
   "metadata": {},
   "source": [
    "#### Load preprocessed language model data:\n",
    "Let's take a look at the first few rows of a batch of data to verify the data has loaded as expected:"
   ]
  },
  {
   "cell_type": "code",
   "execution_count": 4,
   "metadata": {},
   "outputs": [
    {
     "data": {
      "text/html": [
       "<table border=\"1\" class=\"dataframe\">\n",
       "  <thead>\n",
       "    <tr style=\"text-align: right;\">\n",
       "      <th>idx</th>\n",
       "      <th>text</th>\n",
       "    </tr>\n",
       "  </thead>\n",
       "  <tbody>\n",
       "    <tr>\n",
       "      <td>0</td>\n",
       "      <td>xxretweetcount_0 xxtweet_createdlocalhour_23.0 @usairways i have a story for you . xxmaj it starts with a two hour delayed flight that makes me miss my connection in xxmaj miami . xxbos xxtextlencount_75_130 xxretweetcount_0 xxtweet_createdlocalhour_15.0 @usairways xxmaj what 's the seat assignment policy ? xxmaj why let us choose a seat only to change it on us two weeks xxmaj late xxmaj flightr ? xxbos xxtextlencount_&lt;=75 xxretweetcount_0 xxtweet_createdlocalhour_nan @americanair 11 out of</td>\n",
       "    </tr>\n",
       "    <tr>\n",
       "      <td>1</td>\n",
       "      <td>travel way too much for you to tell me coffee is not a basic option xxbos xxtextlencount_&gt;130 xxretweetcount_0 xxtweet_createdlocalhour_18.0 @americanair xxmaj next xxmaj friday , i 'll take xxup xxunk to xxunk morning , xxunk i have to take my bags at xxup lga or i get them to my final dest ? xxbos xxtextlencount_&gt;130 xxretweetcount_0 xxtweet_createdlocalhour_nan @americanair attached original ticket . flight number was xxunk . is n't the</td>\n",
       "    </tr>\n",
       "    <tr>\n",
       "      <td>2</td>\n",
       "      <td>wo n't waive change fee for flights i had to xxmaj cancelled xxmaj flight due to east coast storms . xxbos xxtextlencount_&gt;130 xxretweetcount_0 xxtweet_createdlocalhour_nan @usairways \\n  xxmaj this is how vacations get xxmaj cancelled xxmaj flightled been on hold xxunk 40 + minutes still have nt talked to anyone . # failure http : / / t.co / xxunk xxbos xxtextlencount_&gt;130 xxretweetcount_0 xxtweet_createdlocalhour_18.0 @jetblue if u want to be</td>\n",
       "    </tr>\n",
       "    <tr>\n",
       "      <td>3</td>\n",
       "      <td>@united 3 hours to rebook but 8 hours xxunk the same problem again . xxmaj arrive at gate stopped cause now infant is sitting in 4 yr old lap xxbos xxtextlencount_&lt;=75 xxretweetcount_0 xxtweet_createdlocalhour_10.0 @americanair i need an answer why we ca n't get into xxmaj wichita xxmaj falls . xxbos xxtextlencount_75_130 xxretweetcount_0 xxtweet_createdlocalhour_18.0 @southwestair xxunk , gate said they 're holding connections . xxmaj thanks for quick response ! xxbos</td>\n",
       "    </tr>\n",
       "    <tr>\n",
       "      <td>4</td>\n",
       "      <td>on . xxmaj but i wo n't be for days ! xxbos xxtextlencount_&gt;130 xxretweetcount_0 xxtweet_createdlocalhour_16.0 @americanair agents refuse to help , \" too busy \" &amp; &amp; need to call advantage # . xxup no xxup one willing to help and apparently being exec plat means xxup zero xxbos xxtextlencount_75_130 xxretweetcount_0 xxtweet_createdlocalhour_8.0 @united i need a xxunk of what the \" international xxunk \" on my flights cover . xxmaj</td>\n",
       "    </tr>\n",
       "  </tbody>\n",
       "</table>"
      ],
      "text/plain": [
       "<IPython.core.display.HTML object>"
      ]
     },
     "metadata": {},
     "output_type": "display_data"
    }
   ],
   "source": [
    "data_lm.show_batch()"
   ]
  },
  {
   "cell_type": "markdown",
   "metadata": {},
   "source": [
    "Here it is worth noting that the `fastai` library does some text preprocessing automatically for us. There are 4 text preprocessing steps:\n",
    "1. Preprocessing Transforms - list of functions that modify sentences (see next cell)\n",
    "2. Tokenization - [Spacy](https://spacy.io/) is the default tokenizer, and does some smart word processing (e.g. replacing \"haven't\" with \"have n't\" and \"it's\" with \"it 's\").\n",
    "3. Postprocessing Transforms - list of functions that modify words/tokens (see next cell)\n",
    "4. Numericalization - Words/tokens are replaced by numbers for indexing into the embedding layer. Words with < N occurrences are replaced by the token *xxunk*, where N defaults to 2.\n",
    "\n",
    "Here are the fastai methods being run for data processing and the list special tokens used. See the method source (Shift+Tab 3 times in Jupyter notebook) or the [fastai docs](https://docs.fast.ai/text.transform.html#text.transform) for more info."
   ]
  },
  {
   "cell_type": "code",
   "execution_count": 5,
   "metadata": {},
   "outputs": [
    {
     "name": "stdout",
     "output_type": "stream",
     "text": [
      "Preprocessing transforms : ['fix_html', 'replace_rep', 'replace_wrep', 'spec_add_spaces', 'rm_useless_spaces']\n",
      "Postprocessing transforms: ['replace_all_caps', 'deal_caps']\n",
      "Special Tokens           : ['xxunk', 'xxpad', 'xxbos', 'xxeos', 'xxfld', 'xxmaj', 'xxup', 'xxrep', 'xxwrep']\n"
     ]
    }
   ],
   "source": [
    "print('Preprocessing transforms :', [f.__name__ for f in defaults.text_pre_rules])\n",
    "print('Postprocessing transforms:', [f.__name__ for f in defaults.text_post_rules])\n",
    "print('Special Tokens           :', defaults.text_spec_tok)"
   ]
  },
  {
   "cell_type": "markdown",
   "metadata": {},
   "source": [
    "### Prepare language model learner\n",
    "Our first goal is to generate fine-tuned word embeddings for the vocabulary in our Tweets data from embeddings trained on a large, general English language dataset.\n",
    "\n",
    "Since a language model predicts the next token in a sentence, it captures useful information about how words are used and have been shown to be useful in pretraining a model for common NLP tasks. This model is uses the [AWD LSTM](https://github.com/salesforce/awd-lstm-lm) architecture pretrained on WikiText-103.\n",
    "\n",
    "In this case, tokens are all words in our vocabulary as well as any special tokens. For example, 'xxbos' is added to the beginning of every sample and 'xxunk' replaces all words that aren't in our vocabulary. The full list of special tokens is in the cell output above.\n",
    "\n",
    "The fastai library merges our vocabulary with the vocab used in used in Wikitext-103 so that the pretrained embeddings are preserved and our new words initialized to the mean of all pretrained embeddings.\n",
    "\n",
    "Here we set the remaining hyperparameters of our language model.\n",
    "* arch = AWD_LSTM : AWD_LSTM and Transformer are the two options for which the fastai library includes pretrained weights. In trials not shown, the Transformer architecture takes quite a lot more memory and computational power to train, so we'll stick with AWD_LSTM.\n",
    "* bs = 400        : Larger batch sizes speed up learning, so it is set to approximately the largest batch size that will fit on the GPU (I set this by trial and error).\n",
    "* drop_mult = 1.0 : Each architecture has its own default values for dropout. `drop_mult` allows us to scale all of the individual dropouts by a constant factor. This is the first hyperparameter for directly controlling the balance between overfitting and underfitting within a particular architecture.\n",
    "\n",
    "Additionally, there are several default hyperparameters. Except for `bptt`, we must keep these unchanged to easily take advantage of the pretrained weights. Increasing `bptt` increases the ability for the model to learn long term dependencies - in this case, the default value `bptt=70` is fine for now.\n",
    "* bptt = 70    : number of iterations to calculate back-propagation through time\n",
    "* emb_sz = 400 : size of the embedding weights\n",
    "* nh = 1150    : number of hidden units\n",
    "* nl = 3       : number of hidden layers"
   ]
  },
  {
   "cell_type": "code",
   "execution_count": 6,
   "metadata": {},
   "outputs": [
    {
     "name": "stdout",
     "output_type": "stream",
     "text": [
      "Loaded language model using data: data_lm.pkl \n",
      "Trial prefix: lm_AWD_LSTM_drop_mult_1.0_\n"
     ]
    }
   ],
   "source": [
    "arch = AWD_LSTM # AWD_LSTM, Transformer, or TransformerXL (no pretrained weights)\n",
    "bs = {'AWD_LSTM': 400, 'Transformer': 40}[arch.__name__]\n",
    "drop_mult = 1.0 # default is 1.0\n",
    "lm_data_name = 'data_lm.pkl'\n",
    "lm_trial_prefix = 'lm_' + arch.__name__ + '_drop_mult_' + str(drop_mult) + '_'\n",
    "\n",
    "data_lm = load_data(path, lm_data_name, bs=bs)\n",
    "lm_learn = language_model_learner(data_lm, arch=arch, drop_mult=drop_mult)\n",
    "print('Loaded language model using data:', lm_data_name, '\\nTrial prefix:', lm_trial_prefix)"
   ]
  },
  {
   "cell_type": "code",
   "execution_count": 7,
   "metadata": {},
   "outputs": [
    {
     "data": {
      "text/html": [],
      "text/plain": [
       "<IPython.core.display.HTML object>"
      ]
     },
     "metadata": {},
     "output_type": "display_data"
    },
    {
     "name": "stdout",
     "output_type": "stream",
     "text": [
      "LR Finder is complete, type {learner_name}.recorder.plot() to see the graph.\n"
     ]
    }
   ],
   "source": [
    "lm_learn.lr_find()"
   ]
  },
  {
   "cell_type": "code",
   "execution_count": 8,
   "metadata": {},
   "outputs": [
    {
     "data": {
      "image/png": "[encoded data removed]",
      "text/plain": [
       "<Figure size 432x288 with 1 Axes>"
      ]
     },
     "metadata": {
      "needs_background": "light"
     },
     "output_type": "display_data"
    }
   ],
   "source": [
    "lm_learn.recorder.plot()"
   ]
  },
  {
   "cell_type": "markdown",
   "metadata": {},
   "source": [
    "The learning rate finder `lr_find` finds the training loss for a wide range of learning rates. From this plot, we choose a learning rate that where the loss is still decreasing. This has two key advantages: 1) it reduces training time and 2) it minimizes the number of times the model sees any particular example, which is a form of regularization, helping to keep the model from being able to memorize the training set."
   ]
  },
  {
   "cell_type": "code",
   "execution_count": 9,
   "metadata": {},
   "outputs": [
    {
     "data": {
      "text/html": [
       "<table border=\"1\" class=\"dataframe\">\n",
       "  <thead>\n",
       "    <tr style=\"text-align: left;\">\n",
       "      <th>epoch</th>\n",
       "      <th>train_loss</th>\n",
       "      <th>valid_loss</th>\n",
       "      <th>accuracy</th>\n",
       "      <th>time</th>\n",
       "    </tr>\n",
       "  </thead>\n",
       "  <tbody>\n",
       "    <tr>\n",
       "      <td>0</td>\n",
       "      <td>5.409210</td>\n",
       "      <td>3.819160</td>\n",
       "      <td>0.276911</td>\n",
       "      <td>00:05</td>\n",
       "    </tr>\n",
       "    <tr>\n",
       "      <td>1</td>\n",
       "      <td>4.559108</td>\n",
       "      <td>3.690468</td>\n",
       "      <td>0.291429</td>\n",
       "      <td>00:05</td>\n",
       "    </tr>\n",
       "  </tbody>\n",
       "</table>"
      ],
      "text/plain": [
       "<IPython.core.display.HTML object>"
      ]
     },
     "metadata": {},
     "output_type": "display_data"
    }
   ],
   "source": [
    "lr = 0.1\n",
    "lm_learn.fit_one_cycle(2, lr)"
   ]
  },
  {
   "cell_type": "code",
   "execution_count": 10,
   "metadata": {},
   "outputs": [],
   "source": [
    "lm_learn.save(lm_trial_prefix + 'fit_head')"
   ]
  },
  {
   "cell_type": "markdown",
   "metadata": {},
   "source": [
    "So far, we have only changed the weights in the last layer of the model. Now we'll unfreeze the model and allow all weights to be updated."
   ]
  },
  {
   "cell_type": "code",
   "execution_count": 11,
   "metadata": {},
   "outputs": [],
   "source": [
    "lm_learn.load(lm_trial_prefix + 'fit_head');\n",
    "lm_learn.unfreeze()"
   ]
  },
  {
   "cell_type": "code",
   "execution_count": 12,
   "metadata": {
    "scrolled": true
   },
   "outputs": [
    {
     "data": {
      "text/html": [],
      "text/plain": [
       "<IPython.core.display.HTML object>"
      ]
     },
     "metadata": {},
     "output_type": "display_data"
    },
    {
     "name": "stdout",
     "output_type": "stream",
     "text": [
      "LR Finder is complete, type {learner_name}.recorder.plot() to see the graph.\n"
     ]
    }
   ],
   "source": [
    "lm_learn.lr_find()"
   ]
  },
  {
   "cell_type": "code",
   "execution_count": 13,
   "metadata": {},
   "outputs": [
    {
     "data": {
      "image/png": "[encoded data removed]",
      "text/plain": [
       "<Figure size 432x288 with 1 Axes>"
      ]
     },
     "metadata": {
      "needs_background": "light"
     },
     "output_type": "display_data"
    }
   ],
   "source": [
    "lm_learn.recorder.plot(skip_end=15)"
   ]
  },
  {
   "cell_type": "markdown",
   "metadata": {},
   "source": [
    "As before, we choose a learning rate as large as possible while still avoiding the catastrophic forgetting 'cliff'. This point is just before the steep increase in loss, which occurrs here at approximately `lr=0.6`).\n",
    "\n",
    "Note that if we get too close to the 'cliff', we'll see our loss and accuracy metrics start getting significantly worse. If this happens, resume from a previously saved model and try a lower learning rate."
   ]
  },
  {
   "cell_type": "code",
   "execution_count": 14,
   "metadata": {},
   "outputs": [
    {
     "data": {
      "text/html": [
       "<table border=\"1\" class=\"dataframe\">\n",
       "  <thead>\n",
       "    <tr style=\"text-align: left;\">\n",
       "      <th>epoch</th>\n",
       "      <th>train_loss</th>\n",
       "      <th>valid_loss</th>\n",
       "      <th>accuracy</th>\n",
       "      <th>time</th>\n",
       "    </tr>\n",
       "  </thead>\n",
       "  <tbody>\n",
       "    <tr>\n",
       "      <td>0</td>\n",
       "      <td>3.672147</td>\n",
       "      <td>3.545262</td>\n",
       "      <td>0.295929</td>\n",
       "      <td>00:06</td>\n",
       "    </tr>\n",
       "    <tr>\n",
       "      <td>1</td>\n",
       "      <td>3.552445</td>\n",
       "      <td>3.410305</td>\n",
       "      <td>0.321089</td>\n",
       "      <td>00:06</td>\n",
       "    </tr>\n",
       "    <tr>\n",
       "      <td>2</td>\n",
       "      <td>3.423444</td>\n",
       "      <td>3.376176</td>\n",
       "      <td>0.326089</td>\n",
       "      <td>00:06</td>\n",
       "    </tr>\n",
       "    <tr>\n",
       "      <td>3</td>\n",
       "      <td>3.302068</td>\n",
       "      <td>3.363415</td>\n",
       "      <td>0.329500</td>\n",
       "      <td>00:06</td>\n",
       "    </tr>\n",
       "  </tbody>\n",
       "</table>"
      ],
      "text/plain": [
       "<IPython.core.display.HTML object>"
      ]
     },
     "metadata": {},
     "output_type": "display_data"
    }
   ],
   "source": [
    "lr = 0.01\n",
    "lm_learn.fit_one_cycle(4, lr)"
   ]
  },
  {
   "cell_type": "markdown",
   "metadata": {},
   "source": [
    "Notice in epoch 4 that the training loss drops below the validation loss which means we are beginning to overfit. By adjusting the dropout with the `drop_mult` parameter during model initialization, we can directly trade-off our model's tendency to overfit with our model's capacity to learn."
   ]
  },
  {
   "cell_type": "code",
   "execution_count": 15,
   "metadata": {},
   "outputs": [],
   "source": [
    "lm_learn.save(lm_trial_prefix + 'fine_tuned')\n",
    "lm_learn.save_encoder(lm_trial_prefix + 'fine_tuned_enc')"
   ]
  },
  {
   "cell_type": "markdown",
   "metadata": {},
   "source": [
    "Fitting for more cycles may improve our model further, although the model may also begin overfitting."
   ]
  },
  {
   "cell_type": "code",
   "execution_count": 16,
   "metadata": {},
   "outputs": [],
   "source": [
    "lm_learn.load(lm_trial_prefix + 'fine_tuned');"
   ]
  },
  {
   "cell_type": "code",
   "execution_count": 17,
   "metadata": {},
   "outputs": [
    {
     "data": {
      "text/html": [],
      "text/plain": [
       "<IPython.core.display.HTML object>"
      ]
     },
     "metadata": {},
     "output_type": "display_data"
    },
    {
     "name": "stdout",
     "output_type": "stream",
     "text": [
      "LR Finder is complete, type {learner_name}.recorder.plot() to see the graph.\n"
     ]
    }
   ],
   "source": [
    "lm_learn.lr_find()"
   ]
  },
  {
   "cell_type": "code",
   "execution_count": 18,
   "metadata": {},
   "outputs": [
    {
     "data": {
      "image/png": "[encoded data removed]",
      "text/plain": [
       "<Figure size 432x288 with 1 Axes>"
      ]
     },
     "metadata": {
      "needs_background": "light"
     },
     "output_type": "display_data"
    }
   ],
   "source": [
    "lm_learn.recorder.plot()"
   ]
  },
  {
   "cell_type": "markdown",
   "metadata": {
    "scrolled": true
   },
   "source": [
    "Let's try backing away from the \"catastrophic forgetting cliff\" a bit more to see if we can continue improving the accuracy of our model's predictions."
   ]
  },
  {
   "cell_type": "code",
   "execution_count": 19,
   "metadata": {
    "scrolled": true
   },
   "outputs": [
    {
     "data": {
      "text/html": [
       "<table border=\"1\" class=\"dataframe\">\n",
       "  <thead>\n",
       "    <tr style=\"text-align: left;\">\n",
       "      <th>epoch</th>\n",
       "      <th>train_loss</th>\n",
       "      <th>valid_loss</th>\n",
       "      <th>accuracy</th>\n",
       "      <th>time</th>\n",
       "    </tr>\n",
       "  </thead>\n",
       "  <tbody>\n",
       "    <tr>\n",
       "      <td>0</td>\n",
       "      <td>3.052228</td>\n",
       "      <td>3.348237</td>\n",
       "      <td>0.333661</td>\n",
       "      <td>00:06</td>\n",
       "    </tr>\n",
       "    <tr>\n",
       "      <td>1</td>\n",
       "      <td>3.017553</td>\n",
       "      <td>3.349161</td>\n",
       "      <td>0.334339</td>\n",
       "      <td>00:06</td>\n",
       "    </tr>\n",
       "    <tr>\n",
       "      <td>2</td>\n",
       "      <td>2.958324</td>\n",
       "      <td>3.347079</td>\n",
       "      <td>0.335054</td>\n",
       "      <td>00:06</td>\n",
       "    </tr>\n",
       "    <tr>\n",
       "      <td>3</td>\n",
       "      <td>2.902127</td>\n",
       "      <td>3.357914</td>\n",
       "      <td>0.335804</td>\n",
       "      <td>00:06</td>\n",
       "    </tr>\n",
       "  </tbody>\n",
       "</table>"
      ],
      "text/plain": [
       "<IPython.core.display.HTML object>"
      ]
     },
     "metadata": {},
     "output_type": "display_data"
    }
   ],
   "source": [
    "lr = 4e-3\n",
    "lm_learn.fit_one_cycle(4, lr)"
   ]
  },
  {
   "cell_type": "markdown",
   "metadata": {},
   "source": [
    "We've improved accuracy and validation loss at the cost of a small amount of overfitting. Not shown, I tried continuing training a bit more, however the validation loss began to increase while the accuracy remained about the same. Let's save this model and move on to classification."
   ]
  },
  {
   "cell_type": "code",
   "execution_count": 20,
   "metadata": {},
   "outputs": [],
   "source": [
    "lm_learn.save(lm_trial_prefix + 'fine_tuned_2')\n",
    "lm_learn.save_encoder(lm_trial_prefix + 'fine_tuned_enc_2')"
   ]
  },
  {
   "cell_type": "markdown",
   "metadata": {},
   "source": [
    "## 3. Classification Model <a name=\"3\"></a>\n",
    "<a name=\"0\">[(... back to the top)](#top)</a> "
   ]
  },
  {
   "cell_type": "markdown",
   "metadata": {},
   "source": [
    "### Prepare Classification Model Data\n",
    "Here, we create the data bunch using the training and test datasets we prepared in step 1. There are a couple of things worth noting here:\n",
    "* We must explicitly pass in the same language model vocabulary so that the classification model will correctly use the language model embeddings.\n",
    "* We create a validation set by randomly selecting 20% percent of the training set. So now our training set has 12527 samples, and our validation set has 1089 samples. This gives us roughly 3 digits of precision in our validation set."
   ]
  },
  {
   "cell_type": "code",
   "execution_count": 2,
   "metadata": {},
   "outputs": [],
   "source": [
    "lm_data_fn = 'data_lm.pkl'\n",
    "train_fn = 'train.csv'\n",
    "test_fn = 'test.csv'\n",
    "clas_data_fn = 'data_clas.pkl'"
   ]
  },
  {
   "cell_type": "markdown",
   "metadata": {},
   "source": [
    "#### Load datasets:\n",
    "\n",
    "Get the same vocabulary we used in the language model."
   ]
  },
  {
   "cell_type": "code",
   "execution_count": 3,
   "metadata": {},
   "outputs": [],
   "source": [
    "vocab = load_data(path, lm_data_fn).vocab"
   ]
  },
  {
   "cell_type": "markdown",
   "metadata": {},
   "source": [
    "Load training and test datasets. Split validation from training dataset."
   ]
  },
  {
   "cell_type": "code",
   "execution_count": 4,
   "metadata": {},
   "outputs": [
    {
     "name": "stdout",
     "output_type": "stream",
     "text": [
      "train: 10724 valid: 2668 test: 1024\n"
     ]
    },
    {
     "data": {
      "text/html": [
       "<div>\n",
       "<style scoped>\n",
       "    .dataframe tbody tr th:only-of-type {\n",
       "        vertical-align: middle;\n",
       "    }\n",
       "\n",
       "    .dataframe tbody tr th {\n",
       "        vertical-align: top;\n",
       "    }\n",
       "\n",
       "    .dataframe thead th {\n",
       "        text-align: right;\n",
       "    }\n",
       "</style>\n",
       "<table border=\"1\" class=\"dataframe\">\n",
       "  <thead>\n",
       "    <tr style=\"text-align: right;\">\n",
       "      <th></th>\n",
       "      <th>airline_sentiment</th>\n",
       "      <th>text_len</th>\n",
       "      <th>retweet_count</th>\n",
       "      <th>tweet_createdLocalHour</th>\n",
       "      <th>text</th>\n",
       "    </tr>\n",
       "  </thead>\n",
       "  <tbody>\n",
       "    <tr>\n",
       "      <th>0</th>\n",
       "      <td>negative</td>\n",
       "      <td>xxtextlencount_&gt;130</td>\n",
       "      <td>xxretweetcount_0</td>\n",
       "      <td>xxtweet_createdLocalHour_nan</td>\n",
       "      <td>@SouthwestAir How to find out if my parents lu...</td>\n",
       "    </tr>\n",
       "    <tr>\n",
       "      <th>1</th>\n",
       "      <td>negative</td>\n",
       "      <td>xxtextlencount_&gt;130</td>\n",
       "      <td>xxretweetcount_0</td>\n",
       "      <td>xxtweet_createdLocalHour_7.0</td>\n",
       "      <td>@AmericanAir don't merge with an airline that ...</td>\n",
       "    </tr>\n",
       "  </tbody>\n",
       "</table>\n",
       "</div>"
      ],
      "text/plain": [
       "  airline_sentiment             text_len     retweet_count  \\\n",
       "0          negative  xxtextlencount_>130  xxretweetcount_0   \n",
       "1          negative  xxtextlencount_>130  xxretweetcount_0   \n",
       "\n",
       "         tweet_createdLocalHour  \\\n",
       "0  xxtweet_createdLocalHour_nan   \n",
       "1  xxtweet_createdLocalHour_7.0   \n",
       "\n",
       "                                                text  \n",
       "0  @SouthwestAir How to find out if my parents lu...  \n",
       "1  @AmericanAir don't merge with an airline that ...  "
      ]
     },
     "execution_count": 4,
     "metadata": {},
     "output_type": "execute_result"
    }
   ],
   "source": [
    "df_train = pd.read_csv(path / 'train.csv')\n",
    "df_test  = pd.read_csv(path / 'test.csv')\n",
    "\n",
    "df_valid = df_train.loc[df_train.is_valid == 1, cols]\n",
    "df_train = df_train.loc[df_train.is_valid == 0, cols]\n",
    "\n",
    "print('train:', len(df_train), 'valid:', len(df_valid), 'test:', len(df_test))\n",
    "df_train.head(2)"
   ]
  },
  {
   "cell_type": "markdown",
   "metadata": {},
   "source": [
    "Create the classification model data object."
   ]
  },
  {
   "cell_type": "code",
   "execution_count": 5,
   "metadata": {},
   "outputs": [],
   "source": [
    "data_clas = TextClasDataBunch.from_df(path, df_train, df_valid, df_test, vocab=vocab, label_cols=0, text_cols=model_input_cols)\n",
    "data_clas.save(clas_data_fn)"
   ]
  },
  {
   "cell_type": "code",
   "execution_count": 6,
   "metadata": {},
   "outputs": [
    {
     "data": {
      "text/html": [
       "<table border=\"1\" class=\"dataframe\">\n",
       "  <thead>\n",
       "    <tr style=\"text-align: right;\">\n",
       "      <th>text</th>\n",
       "      <th>target</th>\n",
       "    </tr>\n",
       "  </thead>\n",
       "  <tbody>\n",
       "    <tr>\n",
       "      <td>xxbos xxtextlencount_&gt;130 xxretweetcount_0 xxtweet_createdlocalhour_nan @united xxmaj hi have a question re future xxmaj flight xxmaj booking xxmaj problems . xxup dub - xxup jac 29 / 9 xxup jac - xxup lax 8 / 10 xxup lax - xxup dub 13 / 10 . i 'm * xxup xxunk xxmaj what is checked bag allowance for xxup jac - xxup lax ?</td>\n",
       "      <td>neutral</td>\n",
       "    </tr>\n",
       "    <tr>\n",
       "      <td>xxbos xxtextlencount_&gt;130 xxretweetcount_1 xxtweet_createdlocalhour_nan @virginamerica xxmaj many xxmaj thanks for the xxmaj follow . \\n  # xxunk # xxunk # xxup usa # xxmaj xxunk \\n  xxmaj looking for xxmaj any xxmaj help 😍 \\n  💗 🇬 🇧 💗 🇺 🇸 💗 \\n  🎀 xxunk 🎀 http : / / t.co / xxunk</td>\n",
       "      <td>neutral</td>\n",
       "    </tr>\n",
       "    <tr>\n",
       "      <td>xxbos xxtextlencount_&gt;130 xxretweetcount_0 xxtweet_createdlocalhour_20.0 @usairways e xxrep 4 y ! xxmaj cancelled xxmaj flightlations , xxmaj flight xxmaj booking xxmaj problemss , reflight xxmaj booking xxmaj problemss , but y' all got me on the same flight out tonight ( not tomorrow ) &amp; &amp; the xxup fc upgrade . xxmaj thx !</td>\n",
       "      <td>positive</td>\n",
       "    </tr>\n",
       "    <tr>\n",
       "      <td>xxbos xxtextlencount_&gt;130 xxretweetcount_0 xxtweet_createdlocalhour_12.0 @jetblue i ❤ ️ xxmaj jetblue but i was on flt xxunk from fll to sfo . xxunk off was over 1 hr xxmaj late xxmaj flight , div to phx &amp; &amp; got in 2 hrs xxmaj late xxmaj flight . xxmaj what will be done ?</td>\n",
       "      <td>negative</td>\n",
       "    </tr>\n",
       "    <tr>\n",
       "      <td>xxbos xxtextlencount_&gt;130 xxretweetcount_0 xxtweet_createdlocalhour_12.0 @united xxunk 7 xxup weeks xxmaj late flightr xxup and i xxup still xxup have xxup not xxup received xxup my xxup miles xxup from xxup the mileageplus xxmaj gift xxmaj card $ 150 xxup xxunk xxup card i xxup handed xxup over ! ! !</td>\n",
       "      <td>negative</td>\n",
       "    </tr>\n",
       "  </tbody>\n",
       "</table>"
      ],
      "text/plain": [
       "<IPython.core.display.HTML object>"
      ]
     },
     "metadata": {},
     "output_type": "display_data"
    }
   ],
   "source": [
    "data_clas.show_batch()"
   ]
  },
  {
   "cell_type": "markdown",
   "metadata": {},
   "source": [
    "### Prepare Classification Model Learner\n",
    "The goal of the classification model is to predict the class (sentiment = {*negative*, *neutral*, *positive*}) from a series of word embeddings which we've transferred from our language model.\n",
    "\n",
    "The primary difference between this model and the languange model is that we now predict a class rather than the next word. This can be seen by inspecting the final layer, which now has only 3 outputs (one per class) followed by a softmax activation. The model's prediction is the class with the largest value. Another important difference between the language model and the classification model is in the default levels of dropout in each section of the model. These defaults are tuned by the creators of fastai for generally performing well on classification tasks.\n",
    "\n",
    "As before, we have a variety of hyperparameters to set, and the justifications for each are the similar to the language model so I won't go through these again with the exception of `drop_mult`. I found that reducing the dropout multiplier from 1.0 to 0.7 both reduced the validation loss and increased the accuracy metric."
   ]
  },
  {
   "cell_type": "code",
   "execution_count": 2,
   "metadata": {},
   "outputs": [],
   "source": [
    "arch = AWD_LSTM # AWD_LSTM, Transformer, or TransformerXL\n",
    "bs = {'AWD_LSTM': 512, 'Transformer': 32}[arch.__name__]\n",
    "drop_mult = 0.7\n",
    "lm_encoder_name = 'lm_AWD_LSTM_drop_mult_1.0_fine_tuned_enc_2'\n",
    "clas_data_name = 'data_clas.pkl'\n",
    "clas_trial_prefix = 'clas_' + arch.__name__ + '_drop_mult_' + str(drop_mult) + '_'"
   ]
  },
  {
   "cell_type": "markdown",
   "metadata": {},
   "source": [
    "Here we reload the saved data and create the learner. Note how we intentionally set the language model encoder to the same encoder we just fine-tuned in the previous step. This is transfer learning!"
   ]
  },
  {
   "cell_type": "code",
   "execution_count": 3,
   "metadata": {},
   "outputs": [
    {
     "name": "stdout",
     "output_type": "stream",
     "text": [
      "Loaded classification model using data: data_clas.pkl \n",
      "Trial prefix: clas_AWD_LSTM_drop_mult_0.7_\n"
     ]
    }
   ],
   "source": [
    "data_clas = load_data(path, clas_data_name, bs=bs)\n",
    "learn = text_classifier_learner(data_clas, arch, drop_mult=drop_mult)\n",
    "learn.load_encoder(lm_encoder_name) # <-- transfer learning!\n",
    "print('Loaded classification model using data:', clas_data_name, '\\nTrial prefix:', clas_trial_prefix)"
   ]
  },
  {
   "cell_type": "markdown",
   "metadata": {},
   "source": [
    "As we did with the language model, we find a good learning rate and then we train our model. In this case, we'll first train with all but last layer group of weights frozen. Then we'll unfreeze weights one layer group at a time until we're training the whole model."
   ]
  },
  {
   "cell_type": "code",
   "execution_count": 4,
   "metadata": {},
   "outputs": [],
   "source": [
    "learn.freeze()"
   ]
  },
  {
   "cell_type": "code",
   "execution_count": 5,
   "metadata": {
    "scrolled": true
   },
   "outputs": [
    {
     "data": {
      "text/html": [],
      "text/plain": [
       "<IPython.core.display.HTML object>"
      ]
     },
     "metadata": {},
     "output_type": "display_data"
    },
    {
     "name": "stdout",
     "output_type": "stream",
     "text": [
      "LR Finder is complete, type {learner_name}.recorder.plot() to see the graph.\n"
     ]
    }
   ],
   "source": [
    "learn.lr_find()"
   ]
  },
  {
   "cell_type": "code",
   "execution_count": 6,
   "metadata": {},
   "outputs": [
    {
     "data": {
      "image/png": "[encoded data removed]",
      "text/plain": [
       "<Figure size 432x288 with 1 Axes>"
      ]
     },
     "metadata": {
      "needs_background": "light"
     },
     "output_type": "display_data"
    }
   ],
   "source": [
    "learn.recorder.plot(skip_start=10, skip_end=5)"
   ]
  },
  {
   "cell_type": "markdown",
   "metadata": {},
   "source": [
    "There is currently an issue with dataloaders in PyTorch, on which fastai is based, which causes them to run very slowly on Windows - this is why my training times are very slow. This should not be an issue on a Linux machine. For reference, [here](https://github.com/pytorch/pytorch/issues/12831) is the issue on GitHub."
   ]
  },
  {
   "cell_type": "code",
   "execution_count": 7,
   "metadata": {},
   "outputs": [
    {
     "data": {
      "text/html": [
       "<table border=\"1\" class=\"dataframe\">\n",
       "  <thead>\n",
       "    <tr style=\"text-align: left;\">\n",
       "      <th>epoch</th>\n",
       "      <th>train_loss</th>\n",
       "      <th>valid_loss</th>\n",
       "      <th>accuracy</th>\n",
       "      <th>time</th>\n",
       "    </tr>\n",
       "  </thead>\n",
       "  <tbody>\n",
       "    <tr>\n",
       "      <td>0</td>\n",
       "      <td>0.689919</td>\n",
       "      <td>0.792782</td>\n",
       "      <td>0.688156</td>\n",
       "      <td>01:06</td>\n",
       "    </tr>\n",
       "    <tr>\n",
       "      <td>1</td>\n",
       "      <td>0.670333</td>\n",
       "      <td>0.551991</td>\n",
       "      <td>0.787481</td>\n",
       "      <td>01:06</td>\n",
       "    </tr>\n",
       "  </tbody>\n",
       "</table>"
      ],
      "text/plain": [
       "<IPython.core.display.HTML object>"
      ]
     },
     "metadata": {},
     "output_type": "display_data"
    }
   ],
   "source": [
    "lr = 0.1\n",
    "learn.fit_one_cycle(2, lr)"
   ]
  },
  {
   "cell_type": "code",
   "execution_count": 8,
   "metadata": {},
   "outputs": [],
   "source": [
    "learn.save(clas_trial_prefix + 'first')"
   ]
  },
  {
   "cell_type": "code",
   "execution_count": 4,
   "metadata": {},
   "outputs": [],
   "source": [
    "learn.load(clas_trial_prefix + 'first');\n",
    "learn.freeze_to(-2)"
   ]
  },
  {
   "cell_type": "code",
   "execution_count": 5,
   "metadata": {
    "scrolled": true
   },
   "outputs": [
    {
     "data": {
      "text/html": [],
      "text/plain": [
       "<IPython.core.display.HTML object>"
      ]
     },
     "metadata": {},
     "output_type": "display_data"
    },
    {
     "name": "stdout",
     "output_type": "stream",
     "text": [
      "LR Finder is complete, type {learner_name}.recorder.plot() to see the graph.\n"
     ]
    }
   ],
   "source": [
    "learn.lr_find()"
   ]
  },
  {
   "cell_type": "code",
   "execution_count": 6,
   "metadata": {},
   "outputs": [
    {
     "data": {
      "image/png": "[encoded data removed]",
      "text/plain": [
       "<Figure size 432x288 with 1 Axes>"
      ]
     },
     "metadata": {
      "needs_background": "light"
     },
     "output_type": "display_data"
    }
   ],
   "source": [
    "learn.recorder.plot(skip_end=4)"
   ]
  },
  {
   "cell_type": "markdown",
   "metadata": {},
   "source": [
    "Since we're training multiple layer groups, we can use a technique fastai calls \"differential learning rates\". This means that layer groups learn at different rates. Training seems to improve when earlier layer groups update slower than later groups. Over the past couple of years, fastai has used a variety of multipliers for reducing the learning rate (I've noticed 2x, 3x, 10x, and 45x). This is another hyperparameter which could be tuned, but I will stick with the latest default of 2x according to fastai's text model tutorial [here](https://docs.fast.ai/text.html)."
   ]
  },
  {
   "cell_type": "code",
   "execution_count": 7,
   "metadata": {},
   "outputs": [
    {
     "data": {
      "text/html": [
       "<table border=\"1\" class=\"dataframe\">\n",
       "  <thead>\n",
       "    <tr style=\"text-align: left;\">\n",
       "      <th>epoch</th>\n",
       "      <th>train_loss</th>\n",
       "      <th>valid_loss</th>\n",
       "      <th>accuracy</th>\n",
       "      <th>time</th>\n",
       "    </tr>\n",
       "  </thead>\n",
       "  <tbody>\n",
       "    <tr>\n",
       "      <td>0</td>\n",
       "      <td>0.612556</td>\n",
       "      <td>0.474705</td>\n",
       "      <td>0.811844</td>\n",
       "      <td>01:07</td>\n",
       "    </tr>\n",
       "    <tr>\n",
       "      <td>1</td>\n",
       "      <td>0.581956</td>\n",
       "      <td>0.466378</td>\n",
       "      <td>0.802849</td>\n",
       "      <td>01:06</td>\n",
       "    </tr>\n",
       "    <tr>\n",
       "      <td>2</td>\n",
       "      <td>0.566736</td>\n",
       "      <td>0.443898</td>\n",
       "      <td>0.825712</td>\n",
       "      <td>01:07</td>\n",
       "    </tr>\n",
       "    <tr>\n",
       "      <td>3</td>\n",
       "      <td>0.531691</td>\n",
       "      <td>0.432114</td>\n",
       "      <td>0.838831</td>\n",
       "      <td>01:06</td>\n",
       "    </tr>\n",
       "  </tbody>\n",
       "</table>"
      ],
      "text/plain": [
       "<IPython.core.display.HTML object>"
      ]
     },
     "metadata": {},
     "output_type": "display_data"
    }
   ],
   "source": [
    "lr = 1e-2\n",
    "lr_reduction_factor = 2.\n",
    "learn.fit_one_cycle(4, slice(lr/lr_reduction_factor, lr))"
   ]
  },
  {
   "cell_type": "code",
   "execution_count": 8,
   "metadata": {},
   "outputs": [],
   "source": [
    "learn.save(clas_trial_prefix + 'second')"
   ]
  },
  {
   "cell_type": "code",
   "execution_count": 9,
   "metadata": {},
   "outputs": [
    {
     "name": "stderr",
     "output_type": "stream",
     "text": [
      "C:\\Users\\David\\Anaconda3\\envs\\fastai-py37_1\\lib\\site-packages\\fastai\\basic_train.py:326: UserWarning: Wasn't able to properly load the optimizer state again.\n",
      "  except: warn(\"Wasn't able to properly load the optimizer state again.\")\n"
     ]
    }
   ],
   "source": [
    "learn.load(clas_trial_prefix + 'second');\n",
    "learn.freeze_to(-3)"
   ]
  },
  {
   "cell_type": "code",
   "execution_count": 10,
   "metadata": {},
   "outputs": [
    {
     "data": {
      "text/html": [],
      "text/plain": [
       "<IPython.core.display.HTML object>"
      ]
     },
     "metadata": {},
     "output_type": "display_data"
    },
    {
     "name": "stdout",
     "output_type": "stream",
     "text": [
      "LR Finder is complete, type {learner_name}.recorder.plot() to see the graph.\n"
     ]
    }
   ],
   "source": [
    "learn.lr_find()"
   ]
  },
  {
   "cell_type": "code",
   "execution_count": 11,
   "metadata": {},
   "outputs": [
    {
     "data": {
      "image/png": "[encoded data removed]",
      "text/plain": [
       "<Figure size 432x288 with 1 Axes>"
      ]
     },
     "metadata": {
      "needs_background": "light"
     },
     "output_type": "display_data"
    }
   ],
   "source": [
    "learn.recorder.plot(skip_start=15, skip_end=4)"
   ]
  },
  {
   "cell_type": "code",
   "execution_count": 12,
   "metadata": {},
   "outputs": [
    {
     "data": {
      "text/html": [
       "<table border=\"1\" class=\"dataframe\">\n",
       "  <thead>\n",
       "    <tr style=\"text-align: left;\">\n",
       "      <th>epoch</th>\n",
       "      <th>train_loss</th>\n",
       "      <th>valid_loss</th>\n",
       "      <th>accuracy</th>\n",
       "      <th>time</th>\n",
       "    </tr>\n",
       "  </thead>\n",
       "  <tbody>\n",
       "    <tr>\n",
       "      <td>0</td>\n",
       "      <td>0.490961</td>\n",
       "      <td>0.467503</td>\n",
       "      <td>0.826837</td>\n",
       "      <td>01:08</td>\n",
       "    </tr>\n",
       "    <tr>\n",
       "      <td>1</td>\n",
       "      <td>0.457514</td>\n",
       "      <td>0.473808</td>\n",
       "      <td>0.835832</td>\n",
       "      <td>01:08</td>\n",
       "    </tr>\n",
       "    <tr>\n",
       "      <td>2</td>\n",
       "      <td>0.405997</td>\n",
       "      <td>0.429537</td>\n",
       "      <td>0.842204</td>\n",
       "      <td>01:08</td>\n",
       "    </tr>\n",
       "    <tr>\n",
       "      <td>3</td>\n",
       "      <td>0.350965</td>\n",
       "      <td>0.440381</td>\n",
       "      <td>0.850075</td>\n",
       "      <td>01:08</td>\n",
       "    </tr>\n",
       "  </tbody>\n",
       "</table>"
      ],
      "text/plain": [
       "<IPython.core.display.HTML object>"
      ]
     },
     "metadata": {},
     "output_type": "display_data"
    }
   ],
   "source": [
    "lr = 1e-2\n",
    "lr_reduction_factor = 2.\n",
    "learn.fit_one_cycle(4, slice(lr/lr_reduction_factor,lr))"
   ]
  },
  {
   "cell_type": "markdown",
   "metadata": {},
   "source": [
    "Notice here that we're starting to overfit - as with the language model, this is okay so long as our validation loss and accuracy metric both continue to improve."
   ]
  },
  {
   "cell_type": "code",
   "execution_count": 13,
   "metadata": {},
   "outputs": [],
   "source": [
    "learn.save(clas_trial_prefix + 'third')"
   ]
  },
  {
   "cell_type": "code",
   "execution_count": 14,
   "metadata": {},
   "outputs": [],
   "source": [
    "learn.load(clas_trial_prefix + 'third');"
   ]
  },
  {
   "cell_type": "code",
   "execution_count": 15,
   "metadata": {},
   "outputs": [
    {
     "data": {
      "text/html": [
       "<table border=\"1\" class=\"dataframe\">\n",
       "  <thead>\n",
       "    <tr style=\"text-align: left;\">\n",
       "      <th>epoch</th>\n",
       "      <th>train_loss</th>\n",
       "      <th>valid_loss</th>\n",
       "      <th>accuracy</th>\n",
       "      <th>time</th>\n",
       "    </tr>\n",
       "  </thead>\n",
       "  <tbody>\n",
       "    <tr>\n",
       "      <td>0</td>\n",
       "      <td>0.258947</td>\n",
       "      <td>0.439739</td>\n",
       "      <td>0.850075</td>\n",
       "      <td>01:08</td>\n",
       "    </tr>\n",
       "    <tr>\n",
       "      <td>1</td>\n",
       "      <td>0.249648</td>\n",
       "      <td>0.454287</td>\n",
       "      <td>0.847451</td>\n",
       "      <td>01:08</td>\n",
       "    </tr>\n",
       "    <tr>\n",
       "      <td>2</td>\n",
       "      <td>0.234214</td>\n",
       "      <td>0.457502</td>\n",
       "      <td>0.846702</td>\n",
       "      <td>01:09</td>\n",
       "    </tr>\n",
       "    <tr>\n",
       "      <td>3</td>\n",
       "      <td>0.220239</td>\n",
       "      <td>0.455409</td>\n",
       "      <td>0.849325</td>\n",
       "      <td>01:08</td>\n",
       "    </tr>\n",
       "  </tbody>\n",
       "</table>"
      ],
      "text/plain": [
       "<IPython.core.display.HTML object>"
      ]
     },
     "metadata": {},
     "output_type": "display_data"
    }
   ],
   "source": [
    "lr = 1e-3\n",
    "lr_reduction_factor = 2.\n",
    "learn.fit_one_cycle(4, slice(lr/lr_reduction_factor,lr))"
   ]
  },
  {
   "cell_type": "markdown",
   "metadata": {},
   "source": [
    "As we continue training, we see the training loss continue to drop, but the validation loss and accuracy are no longer improving, in fact they're starting to get a bit worse. \n",
    "\n",
    "This is a good time to export our our best model and begin our analysis."
   ]
  },
  {
   "cell_type": "code",
   "execution_count": 16,
   "metadata": {},
   "outputs": [],
   "source": [
    "learn.load(clas_trial_prefix + 'third');\n",
    "learn.export('clas_initial_model.pkl')"
   ]
  },
  {
   "cell_type": "markdown",
   "metadata": {},
   "source": [
    "## 4. Analysis, Discussion, and Next Steps <a name=\"4\"></a>\n",
    "<a name=\"0\">[(... back to the top)](#top)</a> "
   ]
  },
  {
   "cell_type": "markdown",
   "metadata": {},
   "source": [
    "Now let's analyze our performance on the validation set. Note that the `TextClassificationInterpretation` class we're using currently only works for the AWD_LSTM model.\n",
    "\n",
    "Let's load our initial classification model."
   ]
  },
  {
   "cell_type": "code",
   "execution_count": 59,
   "metadata": {},
   "outputs": [],
   "source": [
    "clas_data_fn = 'data_clas.pkl'\n",
    "model_fn = 'clas_initial_model.pkl'\n",
    "bs = 512\n",
    "\n",
    "data = load_data(path, clas_data_fn, bs=bs)\n",
    "learn = load_learner(path, model_fn)\n",
    "learn.data = data_clas"
   ]
  },
  {
   "cell_type": "markdown",
   "metadata": {},
   "source": [
    "First, let's take a look at a few tweets that I made up to check that the predictions make sense."
   ]
  },
  {
   "cell_type": "code",
   "execution_count": null,
   "metadata": {},
   "outputs": [],
   "source": [
    "learn.predict(\"Thanks for everything!\")"
   ]
  },
  {
   "cell_type": "code",
   "execution_count": null,
   "metadata": {},
   "outputs": [],
   "source": [
    "learn.predict(\"flying to #mco to visit my family\")"
   ]
  },
  {
   "cell_type": "code",
   "execution_count": null,
   "metadata": {},
   "outputs": [],
   "source": [
    "learn.predict(\"I didn't like the flight at all\")"
   ]
  },
  {
   "cell_type": "markdown",
   "metadata": {},
   "source": [
    "These are all correct, which is promising.\n",
    "\n",
    "Next, let's get the model's predictions on the validation set."
   ]
  },
  {
   "cell_type": "code",
   "execution_count": 85,
   "metadata": {},
   "outputs": [
    {
     "name": "stdout",
     "output_type": "stream",
     "text": [
      "predictions, targets, and losses:\n"
     ]
    },
    {
     "data": {
      "text/plain": [
       "[torch.Size([2668, 3]), torch.Size([2668]), torch.Size([2668])]"
      ]
     },
     "execution_count": 85,
     "metadata": {},
     "output_type": "execute_result"
    }
   ],
   "source": [
    "ds_type = DatasetType.Valid\n",
    "\n",
    "preds = learn.get_preds(ds_type=ds_type, with_loss=True, ordered=True)\n",
    "# ^ note: when using `with_loss`, must set `ordered=True` or the losses will not correspond to the correct prediction\n",
    "print('predictions, targets, and losses:')\n",
    "[p.size() for p in preds]"
   ]
  },
  {
   "cell_type": "markdown",
   "metadata": {},
   "source": [
    "The `TextClassificationInterpretation` class has some basic convenience functions for interpreting the model."
   ]
  },
  {
   "cell_type": "code",
   "execution_count": 86,
   "metadata": {},
   "outputs": [],
   "source": [
    "interp = TextClassificationInterpretation(learn, *preds)"
   ]
  },
  {
   "cell_type": "markdown",
   "metadata": {},
   "source": [
    "We can recall from training that our final accuracy was ***.\n",
    "\n",
    "Our validation loss and accuracy metrics are useful as single numbers to improve on, but let's now explore how well we did at predicting each class.\n",
    "\n",
    "A more detailed way to characterize the model's performance is by using a confusion matrix. A confusion matrix compares predictions with their actual labels, each square corresponds to the number of examples in each bucket. Correct predictions are along the diagonal."
   ]
  },
  {
   "cell_type": "code",
   "execution_count": 87,
   "metadata": {},
   "outputs": [
    {
     "data": {
      "image/png": "[encoded data removed]",
      "text/plain": [
       "<Figure size 432x288 with 1 Axes>"
      ]
     },
     "metadata": {
      "needs_background": "light"
     },
     "output_type": "display_data"
    }
   ],
   "source": [
    "interp.plot_confusion_matrix()"
   ]
  },
  {
   "cell_type": "markdown",
   "metadata": {},
   "source": [
    "Here we see that the model has the toughest time distinguishing between negative and neutral texts. Additionally, we noted during data exporation that we might have to account for the fact that the negative class several times more examples than the other 2 classes. It appears that this is not an issue. In fact, as a percentage of the total, there are far more neutral examples misclassified than either of the other 2 classes.\n",
    "\n",
    "Next let's look at the top 5 validation losses:"
   ]
  },
  {
   "cell_type": "code",
   "execution_count": 88,
   "metadata": {},
   "outputs": [
    {
     "data": {
      "text/html": [
       "<table border=\"1\" class=\"dataframe\">\n",
       "  <thead>\n",
       "    <tr style=\"text-align: right;\">\n",
       "      <th>Text</th>\n",
       "      <th>Prediction</th>\n",
       "      <th>Actual</th>\n",
       "      <th>Loss</th>\n",
       "      <th>Probability</th>\n",
       "    </tr>\n",
       "  </thead>\n",
       "  <tbody>\n",
       "    <tr>\n",
       "      <td>xxbos xxtextlencount_75_130 xxretweetcount_0 xxtweet_createdlocalhour_12.0 @americanair - keeping xxup aa up in the xxmaj air ! xxmaj my crew chief cousin xxmaj alex xxmaj xxunk in xxup dfw ! http : / / t.co / xxunk</td>\n",
       "      <td>positive</td>\n",
       "      <td>neutral</td>\n",
       "      <td>7.70</td>\n",
       "      <td>0.00</td>\n",
       "    </tr>\n",
       "    <tr>\n",
       "      <td>xxbos xxtextlencount_&gt;130 xxretweetcount_0 xxtweet_createdlocalhour_16.0 @southwestair xxmaj what can we do to bring you back to xxmaj xxunk , xxup xxunk ? ! xxmaj we miss you terribly around here . xxmaj these other airlines are horrible ! !</td>\n",
       "      <td>negative</td>\n",
       "      <td>positive</td>\n",
       "      <td>7.32</td>\n",
       "      <td>0.00</td>\n",
       "    </tr>\n",
       "    <tr>\n",
       "      <td>xxbos xxtextlencount_&gt;130 xxretweetcount_0 xxtweet_createdlocalhour_7.0 @southwestair - xxmaj we left ipad in a seat pocket . xxmaj filed lost item report . xxmaj received it exactly 1 week xxmaj late xxmaj flightr . xxmaj is that a record ? # unbelievable</td>\n",
       "      <td>negative</td>\n",
       "      <td>positive</td>\n",
       "      <td>6.64</td>\n",
       "      <td>0.00</td>\n",
       "    </tr>\n",
       "    <tr>\n",
       "      <td>xxbos xxtextlencount_75_130 xxretweetcount_0 xxtweet_createdlocalhour_11.0 @usairways and now you ca n't even accommodate us by letting us fly in to another airport ? ! xxmaj horrible service for your fault ! ! !</td>\n",
       "      <td>negative</td>\n",
       "      <td>neutral</td>\n",
       "      <td>6.25</td>\n",
       "      <td>0.00</td>\n",
       "    </tr>\n",
       "    <tr>\n",
       "      <td>xxbos xxtextlencount_75_130 xxretweetcount_0 xxtweet_createdlocalhour_16.0 @southwestair i 'm excited too , but perhaps you could scale your xxunk back by a few weeks ...</td>\n",
       "      <td>negative</td>\n",
       "      <td>positive</td>\n",
       "      <td>6.23</td>\n",
       "      <td>0.00</td>\n",
       "    </tr>\n",
       "  </tbody>\n",
       "</table>"
      ],
      "text/plain": [
       "<IPython.core.display.HTML object>"
      ]
     },
     "metadata": {},
     "output_type": "display_data"
    }
   ],
   "source": [
    "interp.show_top_losses(5)"
   ]
  },
  {
   "cell_type": "markdown",
   "metadata": {},
   "source": [
    "Reading through these, it seems reasonable that these are some of the toughest examples to predict as several of these initially seem to be one class, but on finishing reading the example, a different class. And actually I think example *** 4 here is mislabled."
   ]
  },
  {
   "cell_type": "markdown",
   "metadata": {},
   "source": [
    "### Discussion\n",
    "\n",
    "Where to go from here depends on both our goal and our constraints. We started with the fairly open-ended goal of applying the ULMFiT modeling process to the Twitter US Airlines Sentiment data. \n",
    "\n",
    "By clarifying the goal(s) and operational constraints, we could make a clearer decision on which steps to take next. Here are a 2 possibilities:\n",
    "* Goal: maximize the accuracy (or related metric)\n",
    "  * To achieve academic performance, we could take steps mentioned above to \n",
    "* Goal: deploy the model\n",
    "  * Some likely constraints: max inference time threshold, min accuracy threshold\n",
    "\n",
    "If we decided that our model needed further improvements, then the next step would be to manually review a sample our validation losses and sort them according to what kinds of errors the model seems to be making. This should help us determine where the model has the most room for improvement. Then, by estimating how much effort addressing a particular issue would be to improve, we could make the best use of our time in getting better results.\n",
    "\n",
    "One weakness of this model is the loss of natural ordering of numbers. Since all inputs are treated as tokens, we binned variables such as 'text_len' and 'retweet_count' to preserve some meaning without creating a lot of extra tokens. It would be better to concatenate these features to the model, treating them as numbers. Sticking with the fastai library, it would be straightforward to implement this as a callback."
   ]
  },
  {
   "cell_type": "markdown",
   "metadata": {},
   "source": [
    "Since this is as far as I'll be taking this analysis in this notebook, let's take a look at the test accuracy to see how well this model performs on the test set."
   ]
  },
  {
   "cell_type": "code",
   "execution_count": null,
   "metadata": {},
   "outputs": [],
   "source": []
  },
  {
   "cell_type": "markdown",
   "metadata": {},
   "source": []
  }
 ],
 "metadata": {
  "kernelspec": {
   "display_name": "Python (fastai-py37_1)",
   "language": "python",
   "name": "fastai-py37_1"
  },
  "language_info": {
   "codemirror_mode": {
    "name": "ipython",
    "version": 3
   },
   "file_extension": ".py",
   "mimetype": "text/x-python",
   "name": "python",
   "nbconvert_exporter": "python",
   "pygments_lexer": "ipython3",
   "version": "3.7.3"
  }
 },
 "nbformat": 4,
 "nbformat_minor": 2
}
